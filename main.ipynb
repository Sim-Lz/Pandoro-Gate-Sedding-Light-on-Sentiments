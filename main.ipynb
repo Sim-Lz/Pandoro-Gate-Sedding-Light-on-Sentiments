{
  "cells": [
    {
      "cell_type": "markdown",
      "metadata": {},
      "source": [
        "# Pandoro Gate Exposed: Sedding Light on Sentiments"
      ]
    },
    {
      "cell_type": "code",
      "execution_count": null,
      "metadata": {
        "id": "3pMeq4o7Jh5j"
      },
      "outputs": [],
      "source": [
        "#Importing dependencies\n",
        "import pandas as pd\n",
        "import numpy as np\n",
        "import plotly.graph_objects as go"
      ]
    },
    {
      "cell_type": "code",
      "execution_count": null,
      "metadata": {},
      "outputs": [],
      "source": [
        "data_list=[\"Copertina_Espresso\", \"Facebook\", \"Instagram\", \"Quora\", \"Reddit\",\"Twitter\", \"Youtube\"]\n",
        "dataframes=[]\n",
        "for i in data_list:\n",
        "    dataframe = pd.read_csv(f\"/data/{i}.csv\")\n",
        "    dataframes.append(dataframe)\n",
        "    display(dataframe.head(2))"
      ]
    },
    {
      "cell_type": "code",
      "execution_count": null,
      "metadata": {
        "id": "81MkgPj7Jh5v"
      },
      "outputs": [],
      "source": [
        "df=pd.concat(dataframes, ignore_index=True)\n",
        "df=df[[\"Source\", \"Username\", \"Title\", \"Text\", \"Date\", \"URL\", \"Post ID\",\"Likes\"]]"
      ]
    },
    {
      "cell_type": "markdown",
      "metadata": {
        "id": "SSSioGZ0Jh5w"
      },
      "source": [
        "# EDA"
      ]
    },
    {
      "cell_type": "code",
      "execution_count": null,
      "metadata": {
        "colab": {
          "base_uri": "https://localhost:8080/",
          "height": 504
        },
        "id": "bLa9NcaUJh5w",
        "outputId": "c2cea4db-91c2-407b-c935-284f198afc00"
      },
      "outputs": [],
      "source": [
        "display(df.sample(5))"
      ]
    },
    {
      "cell_type": "code",
      "execution_count": null,
      "metadata": {
        "colab": {
          "base_uri": "https://localhost:8080/"
        },
        "id": "YNJN3rYoJh5x",
        "outputId": "cf0e01ca-613c-4d20-8e90-9a0ae17ec876"
      },
      "outputs": [],
      "source": [
        "df.info()"
      ]
    },
    {
      "cell_type": "code",
      "execution_count": null,
      "metadata": {
        "colab": {
          "base_uri": "https://localhost:8080/"
        },
        "id": "viAb-O3zJh5y",
        "outputId": "f3968b0d-ea20-41e3-bd7f-83a48b04ea86"
      },
      "outputs": [],
      "source": [
        "for i in df.columns:\n",
        "    print(i, df[i].isnull().sum())"
      ]
    },
    {
      "cell_type": "code",
      "execution_count": null,
      "metadata": {
        "colab": {
          "base_uri": "https://localhost:8080/"
        },
        "id": "gH9YD9IIJh5y",
        "outputId": "103dd74e-4a42-4f02-d6e2-f1f74776505e"
      },
      "outputs": [],
      "source": [
        "for i in df.columns:\n",
        "    print(i, df[i].nunique())"
      ]
    },
    {
      "cell_type": "code",
      "execution_count": null,
      "metadata": {},
      "outputs": [],
      "source": [
        "#Setting colors to then plot the sources\n",
        "colours={\"Instagram\":\"#FF2084\",\n",
        "         \"Youtube\":\"#FF0000\",\n",
        "         \"Reddit\":\"#FF3600\", \n",
        "         \"Facebook\":\"#006EFF\",\n",
        "         \"Quora\":\"#A80000\",\n",
        "         \"Twitter\":\"#08003B\"}"
      ]
    },
    {
      "cell_type": "code",
      "execution_count": 12,
      "metadata": {
        "colab": {
          "base_uri": "https://localhost:8080/",
          "height": 576
        },
        "id": "ZdK8e7exJh5z",
        "outputId": "25fc09bf-9ecb-45b6-a682-1be76aa41bc0"
      },
      "outputs": [
        {
          "data": {
            "application/vnd.plotly.v1+json": {
              "config": {
                "plotlyServerURL": "https://plot.ly"
              },
              "data": [
                {
                  "marker": {
                    "color": [
                      "#FF2084",
                      "#006EFF",
                      "#FF0000",
                      "#FF3600",
                      "#08003B",
                      "#A80000"
                    ]
                  },
                  "type": "bar",
                  "x": [
                    "Instagram",
                    "Facebook",
                    "Youtube",
                    "Reddit",
                    "Twitter",
                    "Quora"
                  ],
                  "y": [
                    23817,
                    12678,
                    6979,
                    5387,
                    1904,
                    292
                  ]
                }
              ],
              "layout": {
                "template": {
                  "data": {
                    "bar": [
                      {
                        "error_x": {
                          "color": "#2a3f5f"
                        },
                        "error_y": {
                          "color": "#2a3f5f"
                        },
                        "marker": {
                          "line": {
                            "color": "white",
                            "width": 0.5
                          },
                          "pattern": {
                            "fillmode": "overlay",
                            "size": 10,
                            "solidity": 0.2
                          }
                        },
                        "type": "bar"
                      }
                    ],
                    "barpolar": [
                      {
                        "marker": {
                          "line": {
                            "color": "white",
                            "width": 0.5
                          },
                          "pattern": {
                            "fillmode": "overlay",
                            "size": 10,
                            "solidity": 0.2
                          }
                        },
                        "type": "barpolar"
                      }
                    ],
                    "carpet": [
                      {
                        "aaxis": {
                          "endlinecolor": "#2a3f5f",
                          "gridcolor": "#C8D4E3",
                          "linecolor": "#C8D4E3",
                          "minorgridcolor": "#C8D4E3",
                          "startlinecolor": "#2a3f5f"
                        },
                        "baxis": {
                          "endlinecolor": "#2a3f5f",
                          "gridcolor": "#C8D4E3",
                          "linecolor": "#C8D4E3",
                          "minorgridcolor": "#C8D4E3",
                          "startlinecolor": "#2a3f5f"
                        },
                        "type": "carpet"
                      }
                    ],
                    "choropleth": [
                      {
                        "colorbar": {
                          "outlinewidth": 0,
                          "ticks": ""
                        },
                        "type": "choropleth"
                      }
                    ],
                    "contour": [
                      {
                        "colorbar": {
                          "outlinewidth": 0,
                          "ticks": ""
                        },
                        "colorscale": [
                          [
                            0,
                            "#0d0887"
                          ],
                          [
                            0.1111111111111111,
                            "#46039f"
                          ],
                          [
                            0.2222222222222222,
                            "#7201a8"
                          ],
                          [
                            0.3333333333333333,
                            "#9c179e"
                          ],
                          [
                            0.4444444444444444,
                            "#bd3786"
                          ],
                          [
                            0.5555555555555556,
                            "#d8576b"
                          ],
                          [
                            0.6666666666666666,
                            "#ed7953"
                          ],
                          [
                            0.7777777777777778,
                            "#fb9f3a"
                          ],
                          [
                            0.8888888888888888,
                            "#fdca26"
                          ],
                          [
                            1,
                            "#f0f921"
                          ]
                        ],
                        "type": "contour"
                      }
                    ],
                    "contourcarpet": [
                      {
                        "colorbar": {
                          "outlinewidth": 0,
                          "ticks": ""
                        },
                        "type": "contourcarpet"
                      }
                    ],
                    "heatmap": [
                      {
                        "colorbar": {
                          "outlinewidth": 0,
                          "ticks": ""
                        },
                        "colorscale": [
                          [
                            0,
                            "#0d0887"
                          ],
                          [
                            0.1111111111111111,
                            "#46039f"
                          ],
                          [
                            0.2222222222222222,
                            "#7201a8"
                          ],
                          [
                            0.3333333333333333,
                            "#9c179e"
                          ],
                          [
                            0.4444444444444444,
                            "#bd3786"
                          ],
                          [
                            0.5555555555555556,
                            "#d8576b"
                          ],
                          [
                            0.6666666666666666,
                            "#ed7953"
                          ],
                          [
                            0.7777777777777778,
                            "#fb9f3a"
                          ],
                          [
                            0.8888888888888888,
                            "#fdca26"
                          ],
                          [
                            1,
                            "#f0f921"
                          ]
                        ],
                        "type": "heatmap"
                      }
                    ],
                    "heatmapgl": [
                      {
                        "colorbar": {
                          "outlinewidth": 0,
                          "ticks": ""
                        },
                        "colorscale": [
                          [
                            0,
                            "#0d0887"
                          ],
                          [
                            0.1111111111111111,
                            "#46039f"
                          ],
                          [
                            0.2222222222222222,
                            "#7201a8"
                          ],
                          [
                            0.3333333333333333,
                            "#9c179e"
                          ],
                          [
                            0.4444444444444444,
                            "#bd3786"
                          ],
                          [
                            0.5555555555555556,
                            "#d8576b"
                          ],
                          [
                            0.6666666666666666,
                            "#ed7953"
                          ],
                          [
                            0.7777777777777778,
                            "#fb9f3a"
                          ],
                          [
                            0.8888888888888888,
                            "#fdca26"
                          ],
                          [
                            1,
                            "#f0f921"
                          ]
                        ],
                        "type": "heatmapgl"
                      }
                    ],
                    "histogram": [
                      {
                        "marker": {
                          "pattern": {
                            "fillmode": "overlay",
                            "size": 10,
                            "solidity": 0.2
                          }
                        },
                        "type": "histogram"
                      }
                    ],
                    "histogram2d": [
                      {
                        "colorbar": {
                          "outlinewidth": 0,
                          "ticks": ""
                        },
                        "colorscale": [
                          [
                            0,
                            "#0d0887"
                          ],
                          [
                            0.1111111111111111,
                            "#46039f"
                          ],
                          [
                            0.2222222222222222,
                            "#7201a8"
                          ],
                          [
                            0.3333333333333333,
                            "#9c179e"
                          ],
                          [
                            0.4444444444444444,
                            "#bd3786"
                          ],
                          [
                            0.5555555555555556,
                            "#d8576b"
                          ],
                          [
                            0.6666666666666666,
                            "#ed7953"
                          ],
                          [
                            0.7777777777777778,
                            "#fb9f3a"
                          ],
                          [
                            0.8888888888888888,
                            "#fdca26"
                          ],
                          [
                            1,
                            "#f0f921"
                          ]
                        ],
                        "type": "histogram2d"
                      }
                    ],
                    "histogram2dcontour": [
                      {
                        "colorbar": {
                          "outlinewidth": 0,
                          "ticks": ""
                        },
                        "colorscale": [
                          [
                            0,
                            "#0d0887"
                          ],
                          [
                            0.1111111111111111,
                            "#46039f"
                          ],
                          [
                            0.2222222222222222,
                            "#7201a8"
                          ],
                          [
                            0.3333333333333333,
                            "#9c179e"
                          ],
                          [
                            0.4444444444444444,
                            "#bd3786"
                          ],
                          [
                            0.5555555555555556,
                            "#d8576b"
                          ],
                          [
                            0.6666666666666666,
                            "#ed7953"
                          ],
                          [
                            0.7777777777777778,
                            "#fb9f3a"
                          ],
                          [
                            0.8888888888888888,
                            "#fdca26"
                          ],
                          [
                            1,
                            "#f0f921"
                          ]
                        ],
                        "type": "histogram2dcontour"
                      }
                    ],
                    "mesh3d": [
                      {
                        "colorbar": {
                          "outlinewidth": 0,
                          "ticks": ""
                        },
                        "type": "mesh3d"
                      }
                    ],
                    "parcoords": [
                      {
                        "line": {
                          "colorbar": {
                            "outlinewidth": 0,
                            "ticks": ""
                          }
                        },
                        "type": "parcoords"
                      }
                    ],
                    "pie": [
                      {
                        "automargin": true,
                        "type": "pie"
                      }
                    ],
                    "scatter": [
                      {
                        "fillpattern": {
                          "fillmode": "overlay",
                          "size": 10,
                          "solidity": 0.2
                        },
                        "type": "scatter"
                      }
                    ],
                    "scatter3d": [
                      {
                        "line": {
                          "colorbar": {
                            "outlinewidth": 0,
                            "ticks": ""
                          }
                        },
                        "marker": {
                          "colorbar": {
                            "outlinewidth": 0,
                            "ticks": ""
                          }
                        },
                        "type": "scatter3d"
                      }
                    ],
                    "scattercarpet": [
                      {
                        "marker": {
                          "colorbar": {
                            "outlinewidth": 0,
                            "ticks": ""
                          }
                        },
                        "type": "scattercarpet"
                      }
                    ],
                    "scattergeo": [
                      {
                        "marker": {
                          "colorbar": {
                            "outlinewidth": 0,
                            "ticks": ""
                          }
                        },
                        "type": "scattergeo"
                      }
                    ],
                    "scattergl": [
                      {
                        "marker": {
                          "colorbar": {
                            "outlinewidth": 0,
                            "ticks": ""
                          }
                        },
                        "type": "scattergl"
                      }
                    ],
                    "scattermapbox": [
                      {
                        "marker": {
                          "colorbar": {
                            "outlinewidth": 0,
                            "ticks": ""
                          }
                        },
                        "type": "scattermapbox"
                      }
                    ],
                    "scatterpolar": [
                      {
                        "marker": {
                          "colorbar": {
                            "outlinewidth": 0,
                            "ticks": ""
                          }
                        },
                        "type": "scatterpolar"
                      }
                    ],
                    "scatterpolargl": [
                      {
                        "marker": {
                          "colorbar": {
                            "outlinewidth": 0,
                            "ticks": ""
                          }
                        },
                        "type": "scatterpolargl"
                      }
                    ],
                    "scatterternary": [
                      {
                        "marker": {
                          "colorbar": {
                            "outlinewidth": 0,
                            "ticks": ""
                          }
                        },
                        "type": "scatterternary"
                      }
                    ],
                    "surface": [
                      {
                        "colorbar": {
                          "outlinewidth": 0,
                          "ticks": ""
                        },
                        "colorscale": [
                          [
                            0,
                            "#0d0887"
                          ],
                          [
                            0.1111111111111111,
                            "#46039f"
                          ],
                          [
                            0.2222222222222222,
                            "#7201a8"
                          ],
                          [
                            0.3333333333333333,
                            "#9c179e"
                          ],
                          [
                            0.4444444444444444,
                            "#bd3786"
                          ],
                          [
                            0.5555555555555556,
                            "#d8576b"
                          ],
                          [
                            0.6666666666666666,
                            "#ed7953"
                          ],
                          [
                            0.7777777777777778,
                            "#fb9f3a"
                          ],
                          [
                            0.8888888888888888,
                            "#fdca26"
                          ],
                          [
                            1,
                            "#f0f921"
                          ]
                        ],
                        "type": "surface"
                      }
                    ],
                    "table": [
                      {
                        "cells": {
                          "fill": {
                            "color": "#EBF0F8"
                          },
                          "line": {
                            "color": "white"
                          }
                        },
                        "header": {
                          "fill": {
                            "color": "#C8D4E3"
                          },
                          "line": {
                            "color": "white"
                          }
                        },
                        "type": "table"
                      }
                    ]
                  },
                  "layout": {
                    "annotationdefaults": {
                      "arrowcolor": "#2a3f5f",
                      "arrowhead": 0,
                      "arrowwidth": 1
                    },
                    "autotypenumbers": "strict",
                    "coloraxis": {
                      "colorbar": {
                        "outlinewidth": 0,
                        "ticks": ""
                      }
                    },
                    "colorscale": {
                      "diverging": [
                        [
                          0,
                          "#8e0152"
                        ],
                        [
                          0.1,
                          "#c51b7d"
                        ],
                        [
                          0.2,
                          "#de77ae"
                        ],
                        [
                          0.3,
                          "#f1b6da"
                        ],
                        [
                          0.4,
                          "#fde0ef"
                        ],
                        [
                          0.5,
                          "#f7f7f7"
                        ],
                        [
                          0.6,
                          "#e6f5d0"
                        ],
                        [
                          0.7,
                          "#b8e186"
                        ],
                        [
                          0.8,
                          "#7fbc41"
                        ],
                        [
                          0.9,
                          "#4d9221"
                        ],
                        [
                          1,
                          "#276419"
                        ]
                      ],
                      "sequential": [
                        [
                          0,
                          "#0d0887"
                        ],
                        [
                          0.1111111111111111,
                          "#46039f"
                        ],
                        [
                          0.2222222222222222,
                          "#7201a8"
                        ],
                        [
                          0.3333333333333333,
                          "#9c179e"
                        ],
                        [
                          0.4444444444444444,
                          "#bd3786"
                        ],
                        [
                          0.5555555555555556,
                          "#d8576b"
                        ],
                        [
                          0.6666666666666666,
                          "#ed7953"
                        ],
                        [
                          0.7777777777777778,
                          "#fb9f3a"
                        ],
                        [
                          0.8888888888888888,
                          "#fdca26"
                        ],
                        [
                          1,
                          "#f0f921"
                        ]
                      ],
                      "sequentialminus": [
                        [
                          0,
                          "#0d0887"
                        ],
                        [
                          0.1111111111111111,
                          "#46039f"
                        ],
                        [
                          0.2222222222222222,
                          "#7201a8"
                        ],
                        [
                          0.3333333333333333,
                          "#9c179e"
                        ],
                        [
                          0.4444444444444444,
                          "#bd3786"
                        ],
                        [
                          0.5555555555555556,
                          "#d8576b"
                        ],
                        [
                          0.6666666666666666,
                          "#ed7953"
                        ],
                        [
                          0.7777777777777778,
                          "#fb9f3a"
                        ],
                        [
                          0.8888888888888888,
                          "#fdca26"
                        ],
                        [
                          1,
                          "#f0f921"
                        ]
                      ]
                    },
                    "colorway": [
                      "#636efa",
                      "#EF553B",
                      "#00cc96",
                      "#ab63fa",
                      "#FFA15A",
                      "#19d3f3",
                      "#FF6692",
                      "#B6E880",
                      "#FF97FF",
                      "#FECB52"
                    ],
                    "font": {
                      "color": "#2a3f5f"
                    },
                    "geo": {
                      "bgcolor": "white",
                      "lakecolor": "white",
                      "landcolor": "white",
                      "showlakes": true,
                      "showland": true,
                      "subunitcolor": "#C8D4E3"
                    },
                    "hoverlabel": {
                      "align": "left"
                    },
                    "hovermode": "closest",
                    "mapbox": {
                      "style": "light"
                    },
                    "paper_bgcolor": "white",
                    "plot_bgcolor": "white",
                    "polar": {
                      "angularaxis": {
                        "gridcolor": "#EBF0F8",
                        "linecolor": "#EBF0F8",
                        "ticks": ""
                      },
                      "bgcolor": "white",
                      "radialaxis": {
                        "gridcolor": "#EBF0F8",
                        "linecolor": "#EBF0F8",
                        "ticks": ""
                      }
                    },
                    "scene": {
                      "xaxis": {
                        "backgroundcolor": "white",
                        "gridcolor": "#DFE8F3",
                        "gridwidth": 2,
                        "linecolor": "#EBF0F8",
                        "showbackground": true,
                        "ticks": "",
                        "zerolinecolor": "#EBF0F8"
                      },
                      "yaxis": {
                        "backgroundcolor": "white",
                        "gridcolor": "#DFE8F3",
                        "gridwidth": 2,
                        "linecolor": "#EBF0F8",
                        "showbackground": true,
                        "ticks": "",
                        "zerolinecolor": "#EBF0F8"
                      },
                      "zaxis": {
                        "backgroundcolor": "white",
                        "gridcolor": "#DFE8F3",
                        "gridwidth": 2,
                        "linecolor": "#EBF0F8",
                        "showbackground": true,
                        "ticks": "",
                        "zerolinecolor": "#EBF0F8"
                      }
                    },
                    "shapedefaults": {
                      "line": {
                        "color": "#2a3f5f"
                      }
                    },
                    "ternary": {
                      "aaxis": {
                        "gridcolor": "#DFE8F3",
                        "linecolor": "#A2B1C6",
                        "ticks": ""
                      },
                      "baxis": {
                        "gridcolor": "#DFE8F3",
                        "linecolor": "#A2B1C6",
                        "ticks": ""
                      },
                      "bgcolor": "white",
                      "caxis": {
                        "gridcolor": "#DFE8F3",
                        "linecolor": "#A2B1C6",
                        "ticks": ""
                      }
                    },
                    "title": {
                      "x": 0.05
                    },
                    "xaxis": {
                      "automargin": true,
                      "gridcolor": "#EBF0F8",
                      "linecolor": "#EBF0F8",
                      "ticks": "",
                      "title": {
                        "standoff": 15
                      },
                      "zerolinecolor": "#EBF0F8",
                      "zerolinewidth": 2
                    },
                    "yaxis": {
                      "automargin": true,
                      "gridcolor": "#EBF0F8",
                      "linecolor": "#EBF0F8",
                      "ticks": "",
                      "title": {
                        "standoff": 15
                      },
                      "zerolinecolor": "#EBF0F8",
                      "zerolinewidth": 2
                    }
                  }
                },
                "title": {
                  "text": "Data per Source"
                },
                "xaxis": {
                  "title": {
                    "text": "Source"
                  }
                },
                "yaxis": {
                  "title": {
                    "text": "Count"
                  }
                }
              }
            }
          },
          "metadata": {},
          "output_type": "display_data"
        }
      ],
      "source": [
        "source_counts = df['Source'].value_counts()\n",
        "colors = [colours[source] if source in colours else '#333333' for source in source_counts.index] \n",
        "\n",
        "fig = go.Figure(go.Bar(\n",
        "    x=source_counts.index,\n",
        "    y=source_counts.values,\n",
        "    marker_color=colors\n",
        "))\n",
        "\n",
        "fig.update_layout(\n",
        "    title='Data per Source',\n",
        "    xaxis_title='Source',\n",
        "    yaxis_title='Count',\n",
        "    template='plotly_white'\n",
        ")\n",
        "\n",
        "fig.show()"
      ]
    },
    {
      "cell_type": "markdown",
      "metadata": {
        "id": "NORqZ3amJh50"
      },
      "source": [
        "# Preprocessing"
      ]
    },
    {
      "cell_type": "code",
      "execution_count": null,
      "metadata": {},
      "outputs": [],
      "source": [
        "df=pd.read_csv(\"Data.csv\")"
      ]
    },
    {
      "cell_type": "code",
      "execution_count": null,
      "metadata": {
        "colab": {
          "base_uri": "https://localhost:8080/"
        },
        "id": "n3wytUvCJh50",
        "outputId": "53974cdf-0f2c-49f5-969c-de0d8854987a"
      },
      "outputs": [],
      "source": [
        "#Missing values in \"Text\" are relative to emojis not correctly recognized by the scraping algorithm\n",
        "#Therefore, we will remove them from the dataset\n",
        "df=df[df[\"Text\"].notnull()]\n",
        "\n",
        "df.info()"
      ]
    },
    {
      "cell_type": "code",
      "execution_count": null,
      "metadata": {
        "colab": {
          "base_uri": "https://localhost:8080/"
        },
        "id": "KXVv6LXcJh50",
        "outputId": "048bb190-5537-4c4c-a959-44779c94cc87"
      },
      "outputs": [],
      "source": [
        "print(df.duplicated().sum(),df.shape)\n"
      ]
    },
    {
      "cell_type": "code",
      "execution_count": null,
      "metadata": {
        "colab": {
          "base_uri": "https://localhost:8080/"
        },
        "id": "q27_uZ0WJh51",
        "outputId": "cf75e6dc-5fe1-49b8-8d9f-b6226eee0c17"
      },
      "outputs": [],
      "source": [
        "df.drop_duplicates(inplace=True)\n",
        "df.shape"
      ]
    },
    {
      "cell_type": "code",
      "execution_count": null,
      "metadata": {},
      "outputs": [],
      "source": [
        "import re\n",
        "import emoji"
      ]
    },
    {
      "cell_type": "code",
      "execution_count": null,
      "metadata": {},
      "outputs": [],
      "source": [
        "#This fuction is to detect and extract emojis from the \"Text\" column\n",
        "def detect_emoji(text):\n",
        "    emoji_set = set()\n",
        "    \n",
        "    for character in text:\n",
        "        if emoji.is_emoji(character):\n",
        "            emoji_text = emoji.demojize(character, delimiters=(\"\", \" \"))\n",
        "            emoji_set.add(emoji_text)\n",
        "    \n",
        "    print(list(emoji_set))\n",
        "    return list(emoji_set)\n",
        "\n",
        "detect_emoji(df[\"Text\"])"
      ]
    },
    {
      "cell_type": "code",
      "execution_count": null,
      "metadata": {},
      "outputs": [],
      "source": [
        "#Defining the dictionary for the italian abbreviatons that will be used later\n",
        "abbreviations_italian = {\n",
        "    \"x\": \"per\",\n",
        "    \"cmq\": \"comunque\",\n",
        "    \"xk\": \"perché\",\n",
        "    \"xké\": \"perché\",\n",
        "    \"xkè\": \"perché\",\n",
        "    \"xke\": \"perché\",\n",
        "    \"xò\": \"però\",\n",
        "    \"xo\": \"però\",\n",
        "    \"ki\": \"chi\",\n",
        "    \"nn\": \"non\",\n",
        "    \"sl\": \"solo\",\n",
        "    \"dv\": \"dove\",\n",
        "    \"qnd\": \"quando\",\n",
        "    \"grz\": \"grazie\",\n",
        "    \"pke\": \"perché\",\n",
        "    \"pké\": \"perché\",\n",
        "    \"pkè\": \"perché\",\n",
        "    \"anke\": \"anche\",\n",
        "    \"qlc\": \"qualcosa\",\n",
        "    \"qlcn\": \"qualcuno\",\n",
        "    \"qlcs\": \"qualcosa\",\n",
        "    \"dvt\": \"devi\",\n",
        "    \"kz\": \"casa\",\n",
        "    \"msg\": \"messaggio\",\n",
        "    \"xche\": \"perché\",\n",
        "    \"tvtb\": \"ti voglio tanto bene\",\n",
        "    \"tvb\": \"ti voglio bene\",\n",
        "    \"sn\": \"sono\",\n",
        "    \"cm\": \"come\",\n",
        "    \"pt\": \"più tardi\",\n",
        "    \"tst\": \"testo\",\n",
        "    \"bll\": \"bello\",\n",
        "    \"brv\": \"bravo\",\n",
        "    \"cos\": \"cosa\",\n",
        "    \"d+\": \"di più\",\n",
        "    \"+\": \"più\",\n",
        "    \"dtt\": \"detto\",\n",
        "    \"fll\": \"figlio\",\n",
        "    \"frt\": \"forte\",\n",
        "    \"ftt\": \"fatto\",\n",
        "    \"grd\": \"guarda\",\n",
        "    \"int\": \"intanto\",\n",
        "    \"mlt\": \"molto\",\n",
        "    \"mntr\": \"mentre\",\n",
        "    \"pnt\": \"punto\",\n",
        "    \"pr\": \"per\",\n",
        "    \"prr\": \"parere\",\n",
        "    \"ps\": \"posto\",\n",
        "    \"pss\": \"passo\",\n",
        "    \"ptt\": \"purtroppo\",\n",
        "    \"qll\": \"quello\",\n",
        "    \"scs\": \"scusa\",\n",
        "    \"spt\": \"sopratutto\",\n",
        "    \"stss\": \"stesso\",\n",
        "    \"vbb\": \"va bene\",\n",
        "    \"vdm\": \"vediamo\",\n",
        "    \"vst\": \"vestito\",\n",
        "    \"xsemp\": \"per sempre\",\n",
        "    \"anke\": \"anche\",\n",
        "    \"ok\": \"va bene\",\n",
        "    \"asl\": \"età, sesso, località\",\n",
        "    \"cmnq\": \"comunque\",\n",
        "    \"nnn\": \"non\",\n",
        "    \"cnn\": \"con\",\n",
        "    \"xqst\": \"per questo\",\n",
        "    \"grz\": \"grazie\",\n",
        "    \"pz\": \"pezzo\",\n",
        "    \"prq\": \"perché\",\n",
        "    \"tnt\": \"tanto\",\n",
        "    \"cmpl\": \"completo\",\n",
        "    \"app\": \"appena\",\n",
        "    \"fz\": \"faccia\",\n",
        "    \"gg\": \"giorno\",\n",
        "    \"slv\": \"salva\",\n",
        "    \"cn\": \"con\",\n",
        "    \"anke\": \"anche\",\n",
        "    \"smp\": \"sempre\",\n",
        "    \"già\": \"già\",\n",
        "    \"gt\": \"giusto\",\n",
        "    \"tnt\": \"tanto\",\n",
        "    \"prpr\": \"proprio\",\n",
        "    \"spt\": \"sopratutto\",\n",
        "    \"nn\": \"non\",\n",
        "    \"tb\": \"ti bacio\",\n",
        "    \"tbr\": \"ti bacio, ti amo\",\n",
        "    \"tlm\": \"ti lascio un messaggio\",\n",
        "    \"ttp\": \"ti telefono più tardi\",\n",
        "    \"xch\": \"perché\",\n",
        "    \"adf\": \"a domani forse\",\n",
        "    \"adp\": \"a dopo\",\n",
        "    \"cmq\": \"comunque\",\n",
        "    \"cn\": \"con\",\n",
        "    \"cs\": \"cosa\",\n",
        "    \"cvd\": \"ci vediamo dopo\",\n",
        "    \"dnq\": \"dunque\",\n",
        "    \"gl\": \"giocare\",\n",
        "    \"mgl\": \"meglio\",\n",
        "    \"np\": \"nessun problema\",\n",
        "    \"omg\": \"Oh mio Dio\",\n",
        "    \"pb\": \"probabilmente\",\n",
        "    \"pq\": \"perché\",\n",
        "    \"psr\": \"pensare\",\n",
        "    \"qls\": \"qualsiasi\",\n",
        "    \"qq\": \"qualche\",\n",
        "    \"stf\": \"sul fatto\",\n",
        "    \"tt\": \"tutto\",\n",
        "    \"tvttb\": \"ti voglio tanto tanto bene\",\n",
        "    \"vb\": \"va bene\",\n",
        "    \"vds\": \"vedi\",\n",
        "    \"wtf\": \"ma che cavolo\",\n",
        "    \"xd\": \"per dire\",\n",
        "    \"xm\": \"per me\",\n",
        "    \"vrmt\": \"veramente\",\n",
        "    \"xsm\": \"scusami\",\n",
        "    \"scs\":\"scusa\",\n",
        "    \"xv\": \"per voi\",\n",
        "    \"anke\": \"anche\",\n",
        "    \"cmplmnt\": \"complimenti\",\n",
        "    \"fv\": \"favore\",\n",
        "    \"xfv\": \"per favore\",\n",
        "    \"perfa\": \"per favore\",\n",
        "    \"llm\": \"lasciami un messaggio\",\n",
        "    \"mnd\": \"manda\",\n",
        "    \"nt\": \"notte\",\n",
        "    \"pls\": \"per favore\",\n",
        "    \"pvt\": \"privato\",\n",
        "    \"qdm\": \"quando mi\",\n",
        "    \"rfl\": \"riflettere\",\n",
        "    \"snt\": \"sento\",\n",
        "    \"tnx\": \"grazie\",\n",
        "    \"ztl\": \"zona traffico limitato\",\n",
        "    \"snc\": \"se non ci\",\n",
        "    \"svt\": \"salvato\",\n",
        "    \"cmpl\": \"completo\",\n",
        "    \"grz\": \"grazie\",\n",
        "    \"mtr\": \"meglio\",\n",
        "    \"nmq\": \"non mi quitterò\",\n",
        "    \"rqd\": \"richiedo\",\n",
        "    \"slm\": \"salutami\",\n",
        "    \"stfm\": \"sul fatto mio\",\n",
        "    \"ztt\": \"zitto\"\n",
        "}"
      ]
    },
    {
      "cell_type": "code",
      "execution_count": null,
      "metadata": {},
      "outputs": [],
      "source": [
        "#Defining a dictionary to detect more emojis than the standard ones, this too will be later applied\n",
        "emoji_italian = {\n",
        "    \"thumbs_down_medium-light_skin_tone\": \"emoji pollice verso il basso\",\n",
        "    'middle_finger': \"emoji dito medio\",\n",
        "    'partying_face': \"faccina festaiola\",\n",
        "    'yawning_face': \"faccina che sbadiglia\",\n",
        "    'woman_facepalming': \"emoji donna che si prende la testa\",\n",
        "    'heart_hands_light_skin_tone': \"emoji mani a cuore\",\n",
        "    'chains': \"emoji catene\",\n",
        "    'thumbs_down_medium-dark_skin_tone': \"emoji pollice verso il basso\",\n",
        "    'heart_exclamation': \"emoji cuore esclamativo\",\n",
        "    'orange_heart': \"emoji cuore arancione\",\n",
        "    'rolling_on_the_floor_laughing': \"faccina che ride a crepapelle\",\n",
        "    'see-no-evil_monkey': \"emoji scimmia che non vede\",\n",
        "    'goat': \"emoji capra\",\n",
        "    'flexed_biceps': \"emoji bicipite flesso\",\n",
        "    'clapper_board': \"emoji ciak\",\n",
        "    'face_holding_back_tears': \"faccina che trattiene le lacrime\",\n",
        "    'zipper-mouth_face': \"faccina con bocca chiusa da zip\",\n",
        "    'face_vomiting': \"faccina che vomita\",\n",
        "    'ewe': \"emoji pecora\",\n",
        "    'pensive_face': \"faccina pensierosa\",\n",
        "    'mending_heart': \"emoji cuore che guarisce\",\n",
        "    'face_with_rolling_eyes': \"faccina con occhi al cielo\",\n",
        "    'mechanical_arm': \"emoji braccio meccanico\",\n",
        "    'pile_of_poo': \"emoji cacca\",\n",
        "    'lying_face': \"faccina che mente\",\n",
        "    'cactus': \"emoji cactus\",\n",
        "    'face_with_steam_from_nose': \"faccina che sbuffa\",\n",
        "    'person_facepalming_light_skin_tone': \"emoji persona che si prende la testa\",\n",
        "    'heart_suit': \"emoji seme di cuori\",\n",
        "    'face_with_symbols_on_mouth': \"faccina arrabbiata che lancia insulti\",\n",
        "    'green_heart': \"emoji cuore verde\",\n",
        "    'clown_face': \"faccina di clown\",\n",
        "    'sun': \"emoji sole\",\n",
        "    'face_with_hand_over_mouth': \"faccina con mano sulla bocca\",\n",
        "    'purple_heart': \"emoji cuore viola\",\n",
        "    'enraged_face': \"faccina infuriata\",\n",
        "    'grinning_face_with_sweat': \"faccina sorridente imbarazzata\",\n",
        "    'face_with_tears_of_joy': \"faccina che piange dalle risate\",\n",
        "    'middle_finger_light_skin_tone': \"emoji dito medio\",\n",
        "    'white_heart': \"emoji cuore bianco\",\n",
        "    'pink_heart': \"emoji cuore rosa\",\n",
        "    'skull': \"emoji teschio\",\n",
        "    'face_with_crossed-out_eyes': \"faccina con occhi barrati\",\n",
        "    'cross_mark': \"emoji croce di negazione\",\n",
        "    'fire': \"emoji fuoco\",\n",
        "    'Italy': \"emoji Italia\",\n",
        "    'crying_face': \"faccina piangente\",\n",
        "    'woman_white_hair': \"emoji donna con capelli bianchi\",\n",
        "    'smiling_face_with_open_hands': \"faccina sorridente con mani aperte\",\n",
        "    'face_with_raised_eyebrow': \"faccina irritata con sopracciglio alzato\",\n",
        "    'smiling_face_with_hearts': \"faccina sorridente con cuori\",\n",
        "    'yellow_heart': \"emoji cuore giallo\",\n",
        "    'TOP_arrow': \"emoji freccia in alto\",\n",
        "    'thumbs_down': \"emoji pollice verso il basso\",\n",
        "    'loudly_crying_face': \"faccina che piange forte\",\n",
        "    'brown_heart': \"emoji cuore marrone\",\n",
        "    'folded_hands_medium-light_skin_tone': \"emoji mani giunte\",\n",
        "    \"folded_hands_light_skin_tone\":\"emoji mani giunte\",\n",
        "    'thumbs_up': \"emoji pollice in su\",\n",
        "    'shushing_face': \"faccina che fa shh\",\n",
        "    'money-mouth_face': \"faccina con bocca a forma di soldi\",\n",
        "    'blue_heart': \"emoji cuore blu\",\n",
        "    'nauseated_face': \"faccina nauseata\",\n",
        "    'face_savoring_food': \"faccina che gusta il cibo\",\n",
        "    'bottle_with_popping_cork': \"emoji bottiglia con tappo che salta\",\n",
        "    'heart_hands_medium_skin_tone': \"emoji mani a cuore\",\n",
        "    'person_facepalming': \"emoji persona che si prende la testa\",\n",
        "    'heart_decoration': \"emoji decorazione a cuore\",\n",
        "    'airplane': \"emoji aereo\",\n",
        "    'water_closet': \"emoji WC\",\n",
        "    'flexed_biceps_medium-light_skin_tone': \"emoji bicipite flesso\",\n",
        "    'raising_hands': \"emoji mani alzate\",\n",
        "    'smiling_face_with_heart-eyes': \"faccina sorridente con occhi a cuore\",\n",
        "    'toilet': \"emoji toilette\",\n",
        "    'face_with_open_mouth': \"faccina sorpresa con bocca aperta\",\n",
        "    'beaming_face_with_smiling_eyes': \"faccina raggiante con occhi sorridenti\",\n",
        "    'airplane_departure': \"emoji partenza aereo\",\n",
        "    'black_heart': \"emoji cuore nero\",\n",
        "    'circus_tent': \"emoji tenda da circo\",\n",
        "    'sparkling_heart': \"emoji cuore scintillante\",\n",
        "    'END_arrow': \"emoji freccia finale\",\n",
        "    'clapping_hands': \"emoji mani che applaudono\",\n",
        "    'smiling_face': \"faccina sorridente\",\n",
        "    'broken_heart': \"emoji cuore spezzato\",\n",
        "    'folded_hands': \"emoji mani giunte\",\n",
        "    'star-struck': \"faccina con stelle negli occhi\",\n",
        "    'trophy': \"emoji trofeo\",\n",
        "    'woman_facepalming_light_skin_tone': \"emoji donna che si prende la testa\",\n",
        "    'red_heart': \"emoji cuore rosso\",\n",
        "    \"worriedface\":\"faccina preoccupata\",\n",
        "    \"clapping_hands_light_skin_tone\": \"emoji applauso\",\n",
        "    \"clapping_hands_medium-light_skin_tone\": \"emoji applauso\",\n",
        "    \"pinched_fingers_light_skin_tone\":\"emoji mani che fanno ma che cavolo\",\n",
        "    \"heart_with_arrow\":\"emoji cuore con la freccia\",\n",
        "    \"raised_fist_light_skin_tone\": \"emoji pugno alzato\", \n",
        "    \"sweat_droplets\":\"emoji gocce di sudore\",\n",
        "    \"crossed_fingers\":\"emoji dita incrociate\",\n",
        "    \"raised_back_of_hand_medium-light_skin_tone\":\"emoji mano che fa stop\",\n",
        "    \"drooling_face\": \"faccina che sbava\",\n",
        "    \"thumbs_down_light_skin_tone\": \"emoji pollice verso il basso tonalità pelle chiara\",\n",
        "    \"woman_facepalming_light_skin_tone\": \"emoji donna che si prende la testa tonalità pelle chiara\",\n",
        "    \"woman_white_hair\": \"emoji donna con capelli bianchi\",\n",
        "    \"circus_tent\": \"emoji tenda da circo\",\n",
        "    \"star-struck\": \"faccina con stelle negli occhi\",\n",
        "    \"airplane_departure\": \"emoji partenza aereo\",\n",
        "    \"thumbs_down_medium-light_skin_tone\": \"emoji pollice verso il basso tonalità pelle media chiara\",\n",
        "    \"raising_hands\": \"emoji mani alzate\",\n",
        "    \"mechanical_arm\": \"emoji braccio meccanico\",\n",
        "    \"face_with_raised_eyebrow\": \"faccina irritata con sopracciglio alzato\",\n",
        "    \"face_with_hand_over_mouth\": \"faccina con mano sulla bocca\",\n",
        "    \"face_with_open_mouth\": \"faccina sorpresa con bocca aperta\",\n",
        "    \"bottle_with_popping_cork\": \"emoji bottiglia con tappo che salta\",\n",
        "    \"face_with_steam_from_nose\": \"faccina che sbuffa\",\n",
        "    \"face_with_symbols_on_mouth\": \"faccina arrabbiata che lancia insulti\",\n",
        "    \"face_with_crossed-out_eyes\": \"faccina con occhi barrati\",\n",
        "    \"face_with_rolling_eyes\": \"faccina con occhi al cielo\",\n",
        "    \"face_savoring_food\": \"faccina che gusta il cibo\",\n",
        "    \"face_holding_back_tears\": \"faccina che trattiene le lacrime\",\n",
        "    \"enraged_face\": \"faccina infuriata\",\n",
        "    \"smiling_face_with_open_hands\": \"faccina sorridente con mani aperte\",\n",
        "    \"beaming_face_with_smiling_eyes\": \"faccina raggiante con occhi sorridenti\",\n",
        "    \"grinning_face_with_sweat\": \"faccina sorridente imbarazzata\",\n",
        "    \"lying_face\": \"faccina che mente\",\n",
        "    \"face_vomiting\": \"faccina che vomita\",\n",
        "    \"nauseated_face\": \"faccina nauseata\",\n",
        "    \"zipper-mouth_face\": \"faccina con bocca chiusa da zip\",\n",
        "    \"smiling_face_with_hearts\": \"faccina sorridente con cuori\",\n",
        "    \"smiling_face\": \"faccina sorridente\",\n",
        "    \"clown_face\": \"faccina di clown\",\n",
        "    \"money-mouth_face\": \"faccina con bocca a forma di soldi\",\n",
        "    \"shushing_face\": \"faccina che fa shh\"\n",
        "}"
      ]
    },
    {
      "cell_type": "code",
      "execution_count": null,
      "metadata": {},
      "outputs": [],
      "source": [
        "#Fuction that tokenizes and clean data\n",
        "def preprocess_text(text):\n",
        "\n",
        "    text = text.replace(\"'\",\" \") \n",
        "    #Demojize before tokenizing to preserve the integrity of compound emojis\n",
        "    text = emoji.demojize(text, delimiters=(\" \", \" \"))\n",
        "\n",
        "    tokens = text.split()\n",
        "    processed_tokens = []\n",
        "    \n",
        "    for token in tokens:\n",
        "        if token in emoji_italian:\n",
        "            processed_tokens.append(emoji_italian[token]) #Using the dictionary identified before\n",
        "        elif token in abbreviations_italian:\n",
        "            processed_tokens.append(abbreviations_italian[token]) #Using the dictionary identified before\n",
        "        else:\n",
        "            processed_tokens.append(token)\n",
        "    \n",
        "    #Reconstruct the text from processed tokens\n",
        "    text = ' '.join(processed_tokens)\n",
        "    text = text.lower()\n",
        "    text = re.sub(r'http\\S+', '', text)  #URLs removal\n",
        "    text = re.sub(r'<.*?>', '', text)  #HTML tags removal\n",
        "    text = re.sub(r'[^a-z0-9\\sàèìòùáéíóúâêîôûäëïöüãõñç]', ' ', text)  #Undesired character removal\n",
        "    text = re.sub(r'\\s+', ' ', text)  #Multiple spaces removal\n",
        "\n",
        "    return text\n",
        "\n",
        "df['Cleaned text'] = df['Text'].apply(preprocess_text)"
      ]
    },
    {
      "cell_type": "code",
      "execution_count": null,
      "metadata": {},
      "outputs": [],
      "source": [
        "from transformers import pipeline\n",
        "import deepl\n",
        "\n",
        "#Inotialize the language detector\n",
        "language_detector = pipeline('text-classification', model='papluca/xlm-roberta-base-language-detection')\n",
        "\n",
        "auth_key = \"your_auth_key\"\n",
        "translator = deepl.Translator(auth_key)"
      ]
    },
    {
      "cell_type": "code",
      "execution_count": null,
      "metadata": {},
      "outputs": [],
      "source": [
        "#This function detects the language of the input text using the language detector pipeline\n",
        "def detect_language(text):\n",
        "    if not text.strip():\n",
        "        return \"undefined\"\n",
        "    try:\n",
        "        text = text[:512] #This limit is specified in order to avoid exceding the model input size\n",
        "        lang = language_detector(text)[0]['label']\n",
        "        return lang\n",
        "    except Exception as e:\n",
        "        print(f\"Error while detecting language: {e}\")\n",
        "        return \"\"\n",
        "        \n",
        "language = df['Cleaned text'].apply(detect_language)\n",
        "df.insert(3, \"Language\", language)\n",
        "\n",
        "display(df.sample(5, random_state=50))"
      ]
    },
    {
      "cell_type": "code",
      "execution_count": null,
      "metadata": {},
      "outputs": [],
      "source": [
        "df[\"Language\"].unique()"
      ]
    },
    {
      "cell_type": "code",
      "execution_count": null,
      "metadata": {},
      "outputs": [],
      "source": [
        "source_counts = df[\"Language\"].value_counts()\n",
        "\n",
        "fig = go.Figure(go.Bar(\n",
        "    x=source_counts.index,\n",
        "    y=source_counts.values,\n",
        "))\n",
        "\n",
        "fig.update_layout(\n",
        "    title='Data per Language',\n",
        "    xaxis_title='Language',\n",
        "    yaxis_title='Count',\n",
        "    template='plotly_white'\n",
        ")\n",
        "\n",
        "fig.show()"
      ]
    },
    {
      "cell_type": "code",
      "execution_count": null,
      "metadata": {},
      "outputs": [],
      "source": [
        "#Creating a function to translate the non-Italian input text in Italian\n",
        "def translate_text(text, lang):\n",
        "\n",
        "    if lang != 'it':\n",
        "        try:\n",
        "\n",
        "            segments = [text[i:i+500] for i in range(0, len(text), 500)] #To fit the DeepL API limits\n",
        "            translated_segments = [translator.translate_text(segment, target_lang='IT').text for segment in segments]\n",
        "            return ' '.join(translated_segments)\n",
        "        except Exception as e:\n",
        "            print(f\"Error while translating text: {e}\")\n",
        "            return text\n",
        "    else:\n",
        "        return text\n",
        "\n",
        "df[\"Cleaned text\"] = df.apply(lambda row: translate_text(row['Cleaned text'], row['Language']), axis=1)"
      ]
    },
    {
      "cell_type": "code",
      "execution_count": null,
      "metadata": {
        "id": "UqCtreWZJh51"
      },
      "outputs": [],
      "source": [
        "#Funtion to remove \"@\" within the username\n",
        "def remove_at(text):\n",
        "    if text.startswith(\"@\"):\n",
        "        return text[1:]\n",
        "    else:\n",
        "        return text\n",
        "\n",
        "df[\"Username\"] = df[\"Username\"].apply(remove_at)\n"
      ]
    },
    {
      "cell_type": "code",
      "execution_count": null,
      "metadata": {
        "colab": {
          "base_uri": "https://localhost:8080/",
          "height": 573
        },
        "id": "Z65AMgxUJh52",
        "outputId": "e6034eb1-8535-49db-9adf-fa9a456bdf25"
      },
      "outputs": [],
      "source": [
        "display(df.sample(5, random_state=50))"
      ]
    },
    {
      "cell_type": "code",
      "execution_count": null,
      "metadata": {
        "colab": {
          "base_uri": "https://localhost:8080/",
          "height": 553
        },
        "id": "X_3ImBnxJh52",
        "outputId": "085bd9a9-31bc-47e6-bda0-be5f84735112"
      },
      "outputs": [],
      "source": [
        "#This function calculates the average date from a series of dates\n",
        "def average_date(dates):\n",
        "    dates = pd.to_datetime(dates.dropna(), errors='coerce').dt.normalize()\n",
        "    if not dates.empty:\n",
        "        min_date = dates.min()\n",
        "        differences = (dates - min_date).dt.days\n",
        "        mean_difference = np.mean(differences)\n",
        "        average_date = min_date + pd.Timedelta(days=mean_difference)\n",
        "        threshold_date = pd.Timestamp('2023-09-19')\n",
        "        if average_date < threshold_date:\n",
        "            return threshold_date.strftime('%Y-%m-%d')\n",
        "        return average_date.strftime('%Y-%m-%d')\n",
        "    \n",
        "    return np.nan\n",
        "\n",
        "#The following lines define the logics for aggregate different text in our dataset\n",
        "aggregations = {\n",
        "    \"Language\": lambda x: x.dropna().iloc[0] if not x.dropna().empty else np.nan,\n",
        "    'Text': lambda x: '.\\n '.join(x.dropna().astype(str)) + ('.' if not x.dropna().empty else ''),\n",
        "    'Cleaned text': lambda x: '.\\n '.join(x.dropna().astype(str)) + ('.' if not x.dropna().empty else ''),\n",
        "    'Title': lambda x: '.\\n '.join(x.dropna().unique()) + ('.' if not x.dropna().empty else ''),\n",
        "    'Date': average_date,\n",
        "    'URL': lambda x: '.\\n '.join(x.dropna().unique()) + ('.' if not x.dropna().empty else ''),\n",
        "    'Likes': lambda x: x.fillna(0).sum(),\n",
        "}\n",
        "\n",
        "df = df.groupby(['Source', 'Username']).agg(aggregations).reset_index()\n",
        "\n",
        "display(df.sample(5, random_state=50))"
      ]
    },
    {
      "cell_type": "code",
      "execution_count": null,
      "metadata": {},
      "outputs": [],
      "source": [
        "df=df[df[\"Cleaned text\"].notnull()]\n",
        "#df.to_csv('df_preprocessed.csv', index=False) --already saved"
      ]
    },
    {
      "cell_type": "markdown",
      "metadata": {
        "id": "R9tgmJ6HJh52"
      },
      "source": [
        "# Model"
      ]
    },
    {
      "cell_type": "code",
      "execution_count": null,
      "metadata": {},
      "outputs": [],
      "source": [
        "df=pd.read_csv('df_preprocessed.csv')"
      ]
    },
    {
      "cell_type": "code",
      "execution_count": null,
      "metadata": {},
      "outputs": [],
      "source": [
        "df.rename(columns={\"Text\": \"Raw Text\", \"Cleaned text\": \"Text\"}, inplace=True)\n",
        "display(df.sample(5))"
      ]
    },
    {
      "cell_type": "code",
      "execution_count": null,
      "metadata": {},
      "outputs": [],
      "source": [
        "#Importing dependencies\n",
        "import nltk\n",
        "from nltk.corpus import stopwords\n",
        "from sklearn.cluster import KMeans"
      ]
    },
    {
      "cell_type": "code",
      "execution_count": null,
      "metadata": {},
      "outputs": [],
      "source": [
        "nltk.download('stopwords')\n",
        "italian_stopwords = set(stopwords.words('italian'))\n",
        "#updating the default stopwords with ours\n",
        "italian_stopwords.update([\"a\", \"ad\", \"al\", \"allo\", \"ai\", \"agli\", \"all'\",\"all\", \"alla\", \"alle\", \"con\", \"col\", \"coi\", \"da\", \"dal\", \"dallo\", \"dai\", \"dagli\", \"dall'\",\"dall\", \"dalla\", \"dalle\", \"di\", \"del\", \"dello\", \"dei\", \"degli\", \"dell'\",\"dell\", \"della\", \"delle\", \"in\", \"nel\", \"nello\", \"nei\", \"negli\", \"nell'\", \"nell\", \"nella\", \"nelle\", \"per\", \"per il\", \"per lo\", \"per i\", \"per gli\", \"per l'\", \"per l\", \"per la\", \"per le\", \"su\", \"sul\", \"sullo\", \"sui\", \"sugli\", \"sull'\", \"sull\", \"sulla\", \"sulle\", \"tra\", \"fra\", \"e\", \"o\", \"ed\", \"ma\", \"se\", \"perché\", \"perche\", \"perchè\", \"anche\", \"come\", \"dove\", \"quando\", \"mentre\", \"dopo\", \"prima\", \"poiché\", \"mentre\", \"anche\", \"anzi\", \"cioè\", \"cioe\", \"infatti\", \"dunque\", \"allora\", \"quindi\", \"perciò\", \"percio\", \"pure\", \"oppure\", \"né\", \"ne\", \"nè\", \"o\", \"che\", \"quanto\", \"quasi\", \"senza\", \"via\", \"verso\", \"il\", \"lo\", \"la\", \"i\", \"gli\", \"le\", \"l'\",\"l\", \"un\", \"uno\", \"una\", \"alcuni\", \"alcuno\", \"qualche\", \"ciascuno\", \"nessuno\", \"ogni\", \"tutto\", \"tutta\", \"tutti\", \"tutte\", \"questo\", \"questa\", \"questi\", \"queste\", \"quello\", \"quella\", \"quelli\", \"quelle\", \"chi\", \"cui\", \"qual\", \"quale\", \"quali\", \"quanta\", \"quante\", \"così\", \"ecc\", \"etc\", \"oh\", \"eh\", \"beh\", \"mah\", \"sì\", \"no\", \"ne\", \"ci\", \"vi\", \"li\", \"si\", \"alcunché\", \",\", \".\", \";\", \"!\", \"?\", \":\", \"se\", \"emoji\", \"faccina\"])"
      ]
    },
    {
      "cell_type": "markdown",
      "metadata": {},
      "source": [
        "## Keyword Extraction"
      ]
    },
    {
      "cell_type": "code",
      "execution_count": null,
      "metadata": {},
      "outputs": [],
      "source": [
        "#importing dependencies\n",
        "import torch\n",
        "from transformers import AutoTokenizer, AutoModel"
      ]
    },
    {
      "cell_type": "code",
      "execution_count": null,
      "metadata": {},
      "outputs": [],
      "source": [
        "#Loading the pre-trained model for Keyword extraction\n",
        "model_name = 'mrm8488/bert-italian-finedtuned-squadv1-it-alfa'\n",
        "tokenizer = AutoTokenizer.from_pretrained(model_name)\n",
        "model = AutoModel.from_pretrained(model_name)"
      ]
    },
    {
      "cell_type": "code",
      "execution_count": null,
      "metadata": {},
      "outputs": [],
      "source": [
        "def remove_stopwords(text):\n",
        "    return ' '.join([word for word in text.split() if word.lower() not in italian_stopwords])\n",
        "\n",
        "#This function tokenizes the text and encode it to obtain input tensor to feed the model\n",
        "def get_word_embeddings(text):\n",
        "    inputs = tokenizer(text, return_tensors=\"pt\", add_special_tokens=True, truncation=True, max_length=512)\n",
        "    outputs = model(**inputs)\n",
        "    last_hidden_states = outputs.last_hidden_state\n",
        "    return last_hidden_states.squeeze(0)\n",
        "\n",
        "def split_text_into_segments(text, max_length=510): #max fixed to not exceed the limit of the model\n",
        "    tokens = tokenizer.tokenize(text)\n",
        "    return [tokenizer.convert_tokens_to_string(tokens[i:i + max_length]) for i in range(0, len(tokens), max_length)]\n",
        "\n",
        "def extract_keywords(embeddings, words, num_clusters=5):\n",
        "    if len(words) < num_clusters:\n",
        "        num_clusters = len(words)\n",
        "    if num_clusters == 0:\n",
        "        return []\n",
        "    #Apply KMeans clustering to the embeddings and extract keywords based on the clusters\n",
        "    kmeans = KMeans(n_clusters=num_clusters, random_state=0).fit(embeddings.detach().numpy())\n",
        "    distances = kmeans.transform(embeddings.detach().numpy())\n",
        "    keywords_indices = distances.argmin(axis=0)\n",
        "    keywords = [words[i] for i in keywords_indices if i < len(words)]\n",
        "    return keywords\n",
        "\n",
        "#To extract keywords from the given text, this contains also the other functions\n",
        "def extract_keywords_from_text(text):\n",
        "    segments = split_text_into_segments(text)\n",
        "    all_keywords = []\n",
        "    for segment in segments:\n",
        "        cleaned_text = remove_stopwords(segment)\n",
        "        embeddings = get_word_embeddings(cleaned_text)\n",
        "        words = cleaned_text.split()\n",
        "        keywords = extract_keywords(embeddings, words)\n",
        "        all_keywords.extend(keywords)\n",
        "\n",
        "    return list(dict.fromkeys(all_keywords))"
      ]
    },
    {
      "cell_type": "code",
      "execution_count": null,
      "metadata": {},
      "outputs": [],
      "source": [
        "df[\"Keywords\"]= df['Text'].apply(extract_keywords_from_text)\n",
        "\n",
        "display(df.head(5))"
      ]
    },
    {
      "cell_type": "code",
      "execution_count": null,
      "metadata": {},
      "outputs": [],
      "source": [
        "display(df[\"Keywords\"].sample(10, random_state=50))\n",
        "#df.to_csv('df_with_keywords.csv', index=False) --already saved"
      ]
    },
    {
      "cell_type": "code",
      "execution_count": null,
      "metadata": {},
      "outputs": [],
      "source": [
        "from collections import Counter\n",
        "\n",
        "#To print the frequencies of the words in a descending order\n",
        "def print_word_frequencies(df, column_name):\n",
        "\n",
        "    if column_name in df.columns:\n",
        "        all_words = sum(df[column_name].dropna(), [])\n",
        "        word_counts = Counter(all_words)\n",
        "        for word, count in word_counts.most_common():\n",
        "            print(f\"{word}: {count}\")\n",
        "    else:\n",
        "        print(f\"Errore: la colonna '{column_name}' non esiste nel DataFrame.\")\n",
        "\n",
        "print_word_frequencies(df,\"Keywords\")"
      ]
    },
    {
      "cell_type": "code",
      "execution_count": null,
      "metadata": {},
      "outputs": [],
      "source": [
        "import matplotlib.pyplot as plt\n",
        "from wordcloud import WordCloud\n",
        "\n",
        "#important to set our stopwdords\n",
        "stopwords = set(['fa', 'solo', 'fatto', 'fare', 'UNK', 'unk','[UNK].', 'va', 'sempre','poi','é','mai','davvero','me', 'cosa','dire', 'due'])\n",
        "all_words = [word for sublist in df['Keywords'] for word in sublist if word not in stopwords]\n",
        "\n",
        "text = ' '.join(all_words)\n",
        "\n",
        "wordcloud = WordCloud(width=800, height=400, background_color='white', stopwords=stopwords, max_words=200).generate(text)\n",
        "\n",
        "plt.figure(figsize=(10, 5))\n",
        "plt.imshow(wordcloud, interpolation='bilinear')\n",
        "plt.axis('off')\n",
        "plt.show()\n"
      ]
    },
    {
      "cell_type": "markdown",
      "metadata": {},
      "source": [
        "## Topic Modeling"
      ]
    },
    {
      "cell_type": "code",
      "execution_count": null,
      "metadata": {},
      "outputs": [],
      "source": [
        "df=pd.read_csv(\"df_with_keywords.csv\")"
      ]
    },
    {
      "cell_type": "code",
      "execution_count": null,
      "metadata": {
        "id": "dfwq5vIzLNWg"
      },
      "outputs": [],
      "source": [
        "#Importing dependencies\n",
        "from bertopic import BERTopic\n",
        "import stanza\n"
      ]
    },
    {
      "cell_type": "code",
      "execution_count": null,
      "metadata": {},
      "outputs": [],
      "source": [
        "#Download and initialize Stanza pipeline for Italian language\n",
        "#Tasks: tokenization, multi-word token expansion, and lemmatization processors\n",
        "stanza.download('it')\n",
        "nlp = stanza.Pipeline(lang='it', processors='tokenize,mwt,lemma')"
      ]
    },
    {
      "cell_type": "code",
      "execution_count": null,
      "metadata": {},
      "outputs": [],
      "source": [
        "#Removing stopwords from the text\n",
        "text_without_stopwords = [' '.join([word for word in text.split() if word not in italian_stopwords]) for text in df[\"Text\"]]\n",
        "df.insert(5, \"Text without stopwords\", text_without_stopwords)"
      ]
    },
    {
      "cell_type": "code",
      "execution_count": null,
      "metadata": {},
      "outputs": [],
      "source": [
        "#Thanks to Stanza, lemmatizing the text without stopwords\n",
        "text_lemmatized_no_stpw = [\n",
        "    ' '.join([word.lemma for sent in nlp(' '.join([word for word in text.split() if word not in italian_stopwords])).sentences for word in sent.words])\n",
        "    for text in df[\"Text\"]]\n",
        "\n",
        "df.insert(6, \"Lemmatized text without stopwords\", text_lemmatized_no_stpw)"
      ]
    },
    {
      "cell_type": "code",
      "execution_count": null,
      "metadata": {},
      "outputs": [],
      "source": [
        "display(df.sample(5, random_state=50))\n",
        "#df.to_csv('df_lemma_txt.csv', index=False) --already saved"
      ]
    },
    {
      "cell_type": "markdown",
      "metadata": {},
      "source": [
        "Despite our efforts, the topic modeling conducted on the lemmatized text without stopwords yielded unsatisfactory results. However, we have retained the lemmatized text within the dataset for potential future applications.\n",
        "\n",
        "```\n",
        "df_topic_modeling=df[df['Lemmatized text without stopwords'].notnull()]\n",
        "model = BERTopic()\n",
        "topics, probabilities = model.fit_transform(df_topic_modeling['Lemmatized text without stopwords'])\n",
        "topic_info=model.get_topic_info()\n",
        "display(topic_info)  \n",
        "```"
      ]
    },
    {
      "cell_type": "code",
      "execution_count": null,
      "metadata": {},
      "outputs": [],
      "source": [
        "df=pd.read_csv(\"df_lemma_txt.csv\")"
      ]
    },
    {
      "cell_type": "code",
      "execution_count": null,
      "metadata": {},
      "outputs": [],
      "source": [
        "df_topic_modeling=df[df[\"Text without stopwords\"].notnull()]"
      ]
    },
    {
      "cell_type": "code",
      "execution_count": null,
      "metadata": {},
      "outputs": [],
      "source": [
        "#BERTopic\n",
        "model = BERTopic()\n",
        "topics, probabilities = model.fit_transform(df_topic_modeling[\"Text without stopwords\"])"
      ]
    },
    {
      "cell_type": "code",
      "execution_count": null,
      "metadata": {},
      "outputs": [],
      "source": [
        "df_topic_modeling[\"Topic\"]=topics"
      ]
    },
    {
      "cell_type": "code",
      "execution_count": null,
      "metadata": {
        "colab": {
          "base_uri": "https://localhost:8080/",
          "height": 1000
        },
        "id": "ZsPn3yBT2H72",
        "outputId": "71497f2c-62a1-47eb-bee2-58656a8cf595"
      },
      "outputs": [],
      "source": [
        "topic_info=model.get_topic_info()\n",
        "display(topic_info)"
      ]
    },
    {
      "cell_type": "code",
      "execution_count": null,
      "metadata": {},
      "outputs": [],
      "source": [
        "#Topic ID with keywords and Relevance score\n",
        "topics_data = []\n",
        "\n",
        "for index, row in topic_info.iterrows():\n",
        "    topic_number = row['Topic']\n",
        "    topic_words = model.get_topic(topic_number)\n",
        "    #Append topic number and corresponding keywords to the list as a dictionary\n",
        "    topics_data.append({'Topic': topic_number, 'Keywords': topic_words})\n",
        "    print(f\"Topic {topic_number}: {topic_words}\")\n",
        "\n",
        "topics_df = pd.DataFrame(topics_data)\n",
        "\n",
        "#topics_df.to_csv('generated_topics.csv', index=False) --already saved"
      ]
    },
    {
      "cell_type": "code",
      "execution_count": null,
      "metadata": {
        "colab": {
          "base_uri": "https://localhost:8080/",
          "height": 667
        },
        "id": "LAJotYnMaz4D",
        "outputId": "ebb6fbe2-287a-4aa2-96a2-847c09d33736"
      },
      "outputs": [],
      "source": [
        "model.visualize_topics()"
      ]
    },
    {
      "cell_type": "code",
      "execution_count": null,
      "metadata": {
        "id": "8J-GdVddMbPS"
      },
      "outputs": [],
      "source": [
        "#Function that displays topic based on a query which we'll ask next\n",
        "def display_top_topics(query, n=10):\n",
        "    topics = model.find_topics(str(query), top_n=n)\n",
        "    print(f\"\\n\\\"{query}\\\" Related Topic:\")\n",
        "    for topic in topics:\n",
        "        print(f\"{model.get_topic(topic[0])}\")"
      ]
    },
    {
      "cell_type": "code",
      "execution_count": null,
      "metadata": {},
      "outputs": [],
      "source": [
        "#Most important keywords from keywords extraction\n",
        "queries = [\"chiara\", \"ferragni\", \"beneficenza\", \"vergogna\", \"soldi\", \"truffa\"]\n",
        "for query in queries:\n",
        "    display_top_topics(query)"
      ]
    },
    {
      "cell_type": "code",
      "execution_count": null,
      "metadata": {},
      "outputs": [],
      "source": [
        "#Creation of a list of topics not related to the case of study, done manually\n",
        "unrelated_topics=[15, 43, 47, 125, 130, 290, 334, 352, 443, 489]"
      ]
    },
    {
      "cell_type": "code",
      "execution_count": null,
      "metadata": {},
      "outputs": [],
      "source": [
        "df = pd.merge(df, df_topic_modeling[['Source','Username', 'Date', 'Text', 'Topic']], on=['Source','Username', 'Date', 'Text'], how='left')\n",
        "df.fillna(-1, inplace=True) #Replace NaN values with most common topic"
      ]
    },
    {
      "cell_type": "code",
      "execution_count": null,
      "metadata": {},
      "outputs": [],
      "source": [
        "df= df[~df['Topic'].isin(unrelated_topics)]\n",
        "df.reset_index(drop=True, inplace=True)\n",
        "\n",
        "#df.to_csv('df_case-related_topics.csv', index=False) --already saved"
      ]
    },
    {
      "cell_type": "markdown",
      "metadata": {},
      "source": [
        "## Entity Recognition"
      ]
    },
    {
      "cell_type": "code",
      "execution_count": null,
      "metadata": {},
      "outputs": [],
      "source": [
        "df=pd.read_csv(\"df_case-related_topics.csv\")"
      ]
    },
    {
      "cell_type": "code",
      "execution_count": null,
      "metadata": {},
      "outputs": [],
      "source": [
        "#Importing dependencies\n",
        "from transformers import BertTokenizerFast, BertForTokenClassification, pipeline"
      ]
    },
    {
      "cell_type": "code",
      "execution_count": null,
      "metadata": {},
      "outputs": [],
      "source": [
        "#Initialize tokenizer and model\n",
        "#The model is for token classification, it uses a pre-trained Italian BERT model fine-tuned for NER\n",
        "tokenizer = BertTokenizerFast.from_pretrained(\"nickprock/bert-italian-finetuned-ner\")\n",
        "model = BertForTokenClassification.from_pretrained(\"nickprock/bert-italian-finetuned-ner\")"
      ]
    },
    {
      "cell_type": "code",
      "execution_count": null,
      "metadata": {},
      "outputs": [],
      "source": [
        "#Now, we can initialize the Named Entity Recognition\n",
        "ner_pipeline = pipeline(\"ner\", model = model, tokenizer = tokenizer, aggregation_strategy=\"simple\")"
      ]
    },
    {
      "cell_type": "code",
      "execution_count": null,
      "metadata": {},
      "outputs": [],
      "source": [
        "#Function to perform NER\n",
        "def ner(text):\n",
        "    segments = split_text_into_segments(text) #to accomodate limits\n",
        "    all_entities = []\n",
        "    for segment in segments:\n",
        "        entities = ner_pipeline(segment)\n",
        "        all_entities.extend(entities)\n",
        "    return all_entities"
      ]
    },
    {
      "cell_type": "markdown",
      "metadata": {},
      "source": [
        "### Named Entity Recognition (NER) is performed without removing stopwords as their removal could potentially compromise its performance."
      ]
    },
    {
      "cell_type": "code",
      "execution_count": null,
      "metadata": {},
      "outputs": [],
      "source": [
        "df[\"NER\"]=df[\"Text\"].apply(ner) "
      ]
    },
    {
      "cell_type": "code",
      "execution_count": null,
      "metadata": {},
      "outputs": [],
      "source": [
        "display(df.sample(5))\n",
        "#df.to_csv('df_with_NER.csv', index=False) --already saved"
      ]
    },
    {
      "cell_type": "code",
      "execution_count": null,
      "metadata": {},
      "outputs": [],
      "source": [
        "print(len(df[\"NER\"]))\n",
        "a=0\n",
        "for i in df[\"NER\"]:\n",
        "    if i!=\"[]\":\n",
        "        a+=1\n",
        "print(a)"
      ]
    },
    {
      "cell_type": "markdown",
      "metadata": {},
      "source": [
        "The suboptimal performance of the BERT-IT NER model can be attributed to intrinsic factors such as:\n",
        "\n",
        "- Input text quality: The quality of the input text can significantly influence the model's performance. If the text contains many abbreviations, spelling errors, unclear sentences, or automatically generated text, the model may struggle to correctly recognize entities.\n",
        "\n",
        "- Text length: The length of the text can affect the model's performance. If the text is too short or too long, it might be challenging for the model to accurately detect entities, especially if there are many padding tokens [PAD] in the BERT model.\n",
        "\n",
        "- Linguistic variations: Although the model is trained on Italian, it may not cover all linguistic variations or dialects. If the text contains words or phrases in regional dialects or specialized languages, the model may not be able to recognize them as entities.\n",
        "\n",
        "- Pre-trained NER model: The BERT model used may not have been trained on a representative dataset of all types of input text. If the text presents a domain-specific or context not covered by the model's training, it may struggle to correctly recognize entities."
      ]
    },
    {
      "cell_type": "markdown",
      "metadata": {},
      "source": [
        "# CONTEXT SENSITIVE SENTIMENT ANALYSIS"
      ]
    },
    {
      "cell_type": "markdown",
      "metadata": {},
      "source": [
        "### The osiria/bert-tweet-italian-uncased-sentiment model already considers context in its predictions because it is based on a version of BERT, which is sensitive to the contextual meaning of words in the text."
      ]
    },
    {
      "cell_type": "code",
      "execution_count": null,
      "metadata": {},
      "outputs": [],
      "source": [
        "df=pd.read_csv('df_with_NER.csv')\n",
        "topics=pd.read_csv('generated_topics.csv')"
      ]
    },
    {
      "cell_type": "code",
      "execution_count": null,
      "metadata": {},
      "outputs": [],
      "source": [
        "#Importing dependencies\n",
        "from transformers import BertTokenizerFast, BertForSequenceClassification, pipeline\n",
        "import torch"
      ]
    },
    {
      "cell_type": "code",
      "execution_count": null,
      "metadata": {},
      "outputs": [],
      "source": [
        "def transform_keywords(keywords):\n",
        "    cleaned_keywords = keywords.replace(\"[\", \"\").replace(\"]\", \"\").replace(\"'\", \"\")\n",
        "    \n",
        "    words_with_scores = [word.strip(\"()\").split(\", \") for word in cleaned_keywords.split(\"), (\")]\n",
        "    \n",
        "    words_only = [pair[0] for pair in words_with_scores]\n",
        "    \n",
        "    transformed_keywords = ' '.join(words_only)\n",
        "    \n",
        "    return transformed_keywords"
      ]
    },
    {
      "cell_type": "code",
      "execution_count": null,
      "metadata": {},
      "outputs": [],
      "source": [
        "topics[\"Keywords\"]=topics[\"Keywords\"].apply(transform_keywords)"
      ]
    },
    {
      "cell_type": "code",
      "execution_count": null,
      "metadata": {},
      "outputs": [],
      "source": [
        "#Initialize tokenizer and model\n",
        "tokenizer = BertTokenizerFast.from_pretrained(\"osiria/bert-tweet-italian-uncased-sentiment\")\n",
        "model = BertForSequenceClassification.from_pretrained(\"osiria/bert-tweet-italian-uncased-sentiment\")\n",
        "classifier = pipeline(\"text-classification\", model=model, tokenizer=tokenizer)"
      ]
    },
    {
      "cell_type": "code",
      "execution_count": null,
      "metadata": {},
      "outputs": [],
      "source": [
        "#Finally, the function to predict the sentiment\n",
        "def predict_sentiment_topic(topic):\n",
        "    inputs = tokenizer(topic, return_tensors=\"pt\", truncation=True, padding=True, max_length=512) #always for the input limit\n",
        "\n",
        "    #Prediction!\n",
        "    with torch.no_grad():\n",
        "        outputs = model(**inputs)\n",
        "\n",
        "    #Probability\n",
        "    predictions = torch.nn.functional.softmax(outputs.logits, dim=-1)\n",
        "    class_names = ['negative', 'positive']\n",
        "    predicted_class = class_names[predictions.argmax()]\n",
        "\n",
        "    return predicted_class"
      ]
    },
    {
      "cell_type": "code",
      "execution_count": null,
      "metadata": {},
      "outputs": [],
      "source": [
        "topics[\"Topic Sentiment\"]=topics[\"Keywords\"].apply(predict_sentiment_topic)"
      ]
    },
    {
      "cell_type": "code",
      "execution_count": null,
      "metadata": {},
      "outputs": [],
      "source": [
        "df = pd.merge(df, topics[['Topic', 'Topic Sentiment']], on=['Topic'], how='left')"
      ]
    },
    {
      "cell_type": "code",
      "execution_count": null,
      "metadata": {},
      "outputs": [],
      "source": [
        "#This function is used to \n",
        "def predict_sentiment_with_context(text, title, topic_sentiment):\n",
        "    inputs = tokenizer(text, return_tensors=\"pt\", truncation=True, padding=True, max_length=512)\n",
        "    with torch.no_grad():\n",
        "        outputs = model(**inputs)\n",
        "    predictions = torch.nn.functional.softmax(outputs.logits, dim=-1)\n",
        "    class_names = ['negative', 'positive']\n",
        "    predicted_class = class_names[predictions.argmax()]\n",
        "    probabilities = predictions.numpy().flatten()\n",
        "    probability_dict = {class_names[i]: probabilities[i] for i in range(len(class_names))}\n",
        "\n",
        "    #This part is to specify the context in which we are\n",
        "    if any(word in title.lower() for word in ['scusa', 'chiede scusa', 'chiede perdono', 'perdono']):\n",
        "        context = 'neutral or positive'\n",
        "    elif any(negative_word in title.lower() for negative_word in ['scandalo', 'truffa', 'condanna', 'espresso', 'cesso', 'brutta', 'oscuro', 'multa', 'multata', 'maximulta']):\n",
        "        context = 'negative'\n",
        "    else:\n",
        "        context = 'neutral or positive'\n",
        "\n",
        "    #Setting the rules to better define the logic fo the sentiment analysis context-based\n",
        "    if topic_sentiment == 'positive' and predicted_class == 'positive':\n",
        "        if context == 'negative':\n",
        "            predicted_class = 'negative'\n",
        "    return predicted_class, probability_dict"
      ]
    },
    {
      "cell_type": "code",
      "execution_count": null,
      "metadata": {},
      "outputs": [],
      "source": [
        "df['Sentiment'] = df.apply(lambda row: predict_sentiment_with_context(row['Text'], row['Title'], row['Topic Sentiment']), axis=1)\n",
        "# df..to_csv('df_with_sentiment.csv', index=False) --already saved"
      ]
    },
    {
      "cell_type": "code",
      "execution_count": null,
      "metadata": {},
      "outputs": [],
      "source": [
        "display(df.sample(5))"
      ]
    },
    {
      "cell_type": "markdown",
      "metadata": {},
      "source": [
        "## Study of sentiments"
      ]
    },
    {
      "cell_type": "code",
      "execution_count": null,
      "metadata": {},
      "outputs": [],
      "source": [
        "df=pd.read_csv('df_with_sentiment.csv')"
      ]
    },
    {
      "cell_type": "code",
      "execution_count": null,
      "metadata": {},
      "outputs": [],
      "source": [
        "#Group data by 'Source' and 'Sentiment', and count the number of posts\n",
        "sentiment_by_source = df.groupby('Source')['Sentiment'].value_counts().unstack()\n",
        "\n",
        "#Plotting the results\n",
        "plt.figure(figsize=(14, 7))\n",
        "sentiment_by_source.plot(kind='bar', stacked=True)\n",
        "plt.title('Sentiment by Source')\n",
        "plt.xlabel('Source')\n",
        "plt.ylabel('Number of Comments')\n",
        "plt.xticks(rotation=45)\n",
        "plt.legend(title='Sentiment')\n",
        "plt.show()\n"
      ]
    },
    {
      "cell_type": "code",
      "execution_count": null,
      "metadata": {},
      "outputs": [],
      "source": [
        "#Change sentiment labels\n",
        "df['Sentiment 2'] = df['Sentiment'].replace({'positive': 'with Chiara Ferragni', 'negative': 'against Chiara Ferragni'})\n",
        "\n",
        "#Group data by 'Source' and 'Sentiment', and count the number of posts\n",
        "sentiment_by_source= df[df[\"Date\"]>=\"2024-03-10\"].groupby('Source')['Sentiment 2'].value_counts().unstack()\n",
        "\n",
        "plt.figure(figsize=(14, 7))\n",
        "sentiment_by_source.plot(kind='bar', stacked=True)\n",
        "plt.title(\"Sentiment after Espresso, Ferragni S.p.a.\")\n",
        "plt.xlabel('Social Media')\n",
        "plt.ylabel('Number of Comments')\n",
        "plt.xticks(rotation=45)\n",
        "plt.legend(title='Sentiment')\n",
        "plt.show()"
      ]
    }
  ],
  "metadata": {
    "colab": {
      "provenance": []
    },
    "kernelspec": {
      "display_name": "Python 3",
      "language": "python",
      "name": "python3"
    },
    "language_info": {
      "codemirror_mode": {
        "name": "ipython",
        "version": 3
      },
      "file_extension": ".py",
      "mimetype": "text/x-python",
      "name": "python",
      "nbconvert_exporter": "python",
      "pygments_lexer": "ipython3",
      "version": "3.11.4"
    },
    "widgets": {
      "application/vnd.jupyter.widget-state+json": {
        "00e65a5c47974e6881a6e07381a11aca": {
          "model_module": "@jupyter-widgets/controls",
          "model_module_version": "1.5.0",
          "model_name": "HTMLModel",
          "state": {
            "_dom_classes": [],
            "_model_module": "@jupyter-widgets/controls",
            "_model_module_version": "1.5.0",
            "_model_name": "HTMLModel",
            "_view_count": null,
            "_view_module": "@jupyter-widgets/controls",
            "_view_module_version": "1.5.0",
            "_view_name": "HTMLView",
            "description": "",
            "description_tooltip": null,
            "layout": "IPY_MODEL_29c86dfd24d7407aa025b50038ac815a",
            "placeholder": "​",
            "style": "IPY_MODEL_7c1acbd2d09244d2a8d91688b119d956",
            "value": " 53.0/53.0 [00:00&lt;00:00, 2.12kB/s]"
          }
        },
        "0179129fafd348d9b79d41fdc8c79afe": {
          "model_module": "@jupyter-widgets/controls",
          "model_module_version": "1.5.0",
          "model_name": "HTMLModel",
          "state": {
            "_dom_classes": [],
            "_model_module": "@jupyter-widgets/controls",
            "_model_module_version": "1.5.0",
            "_model_name": "HTMLModel",
            "_view_count": null,
            "_view_module": "@jupyter-widgets/controls",
            "_view_module_version": "1.5.0",
            "_view_name": "HTMLView",
            "description": "",
            "description_tooltip": null,
            "layout": "IPY_MODEL_a0b735f7e6804ca28871c09ad8749794",
            "placeholder": "​",
            "style": "IPY_MODEL_49abdc10a3ff41709b4c503b04706a0e",
            "value": "modules.json: 100%"
          }
        },
        "04aa42418a024fbea67b03e9cad55c84": {
          "model_module": "@jupyter-widgets/base",
          "model_module_version": "1.2.0",
          "model_name": "LayoutModel",
          "state": {
            "_model_module": "@jupyter-widgets/base",
            "_model_module_version": "1.2.0",
            "_model_name": "LayoutModel",
            "_view_count": null,
            "_view_module": "@jupyter-widgets/base",
            "_view_module_version": "1.2.0",
            "_view_name": "LayoutView",
            "align_content": null,
            "align_items": null,
            "align_self": null,
            "border": null,
            "bottom": null,
            "display": null,
            "flex": null,
            "flex_flow": null,
            "grid_area": null,
            "grid_auto_columns": null,
            "grid_auto_flow": null,
            "grid_auto_rows": null,
            "grid_column": null,
            "grid_gap": null,
            "grid_row": null,
            "grid_template_areas": null,
            "grid_template_columns": null,
            "grid_template_rows": null,
            "height": null,
            "justify_content": null,
            "justify_items": null,
            "left": null,
            "margin": null,
            "max_height": null,
            "max_width": null,
            "min_height": null,
            "min_width": null,
            "object_fit": null,
            "object_position": null,
            "order": null,
            "overflow": null,
            "overflow_x": null,
            "overflow_y": null,
            "padding": null,
            "right": null,
            "top": null,
            "visibility": null,
            "width": null
          }
        },
        "0513eaa379134864933598e01314bfea": {
          "model_module": "@jupyter-widgets/controls",
          "model_module_version": "1.5.0",
          "model_name": "FloatProgressModel",
          "state": {
            "_dom_classes": [],
            "_model_module": "@jupyter-widgets/controls",
            "_model_module_version": "1.5.0",
            "_model_name": "FloatProgressModel",
            "_view_count": null,
            "_view_module": "@jupyter-widgets/controls",
            "_view_module_version": "1.5.0",
            "_view_name": "ProgressView",
            "bar_style": "success",
            "description": "",
            "description_tooltip": null,
            "layout": "IPY_MODEL_f8a9aba924f64e89bbb929dde1fedfe2",
            "max": 10659,
            "min": 0,
            "orientation": "horizontal",
            "style": "IPY_MODEL_1258b9829ab94c03a95522e8ee14340d",
            "value": 10659
          }
        },
        "051af0c675d547ae9ca2e9a4dea0726e": {
          "model_module": "@jupyter-widgets/controls",
          "model_module_version": "1.5.0",
          "model_name": "ProgressStyleModel",
          "state": {
            "_model_module": "@jupyter-widgets/controls",
            "_model_module_version": "1.5.0",
            "_model_name": "ProgressStyleModel",
            "_view_count": null,
            "_view_module": "@jupyter-widgets/base",
            "_view_module_version": "1.2.0",
            "_view_name": "StyleView",
            "bar_color": null,
            "description_width": ""
          }
        },
        "07bd36e0047d438ca54459c77247aa5f": {
          "model_module": "@jupyter-widgets/controls",
          "model_module_version": "1.5.0",
          "model_name": "DescriptionStyleModel",
          "state": {
            "_model_module": "@jupyter-widgets/controls",
            "_model_module_version": "1.5.0",
            "_model_name": "DescriptionStyleModel",
            "_view_count": null,
            "_view_module": "@jupyter-widgets/base",
            "_view_module_version": "1.2.0",
            "_view_name": "StyleView",
            "description_width": ""
          }
        },
        "0bf9f2579af946e1aa62bc39969116d1": {
          "model_module": "@jupyter-widgets/base",
          "model_module_version": "1.2.0",
          "model_name": "LayoutModel",
          "state": {
            "_model_module": "@jupyter-widgets/base",
            "_model_module_version": "1.2.0",
            "_model_name": "LayoutModel",
            "_view_count": null,
            "_view_module": "@jupyter-widgets/base",
            "_view_module_version": "1.2.0",
            "_view_name": "LayoutView",
            "align_content": null,
            "align_items": null,
            "align_self": null,
            "border": null,
            "bottom": null,
            "display": null,
            "flex": null,
            "flex_flow": null,
            "grid_area": null,
            "grid_auto_columns": null,
            "grid_auto_flow": null,
            "grid_auto_rows": null,
            "grid_column": null,
            "grid_gap": null,
            "grid_row": null,
            "grid_template_areas": null,
            "grid_template_columns": null,
            "grid_template_rows": null,
            "height": null,
            "justify_content": null,
            "justify_items": null,
            "left": null,
            "margin": null,
            "max_height": null,
            "max_width": null,
            "min_height": null,
            "min_width": null,
            "object_fit": null,
            "object_position": null,
            "order": null,
            "overflow": null,
            "overflow_x": null,
            "overflow_y": null,
            "padding": null,
            "right": null,
            "top": null,
            "visibility": null,
            "width": null
          }
        },
        "116d719d271f46d68b6d4e8d1d6febb3": {
          "model_module": "@jupyter-widgets/base",
          "model_module_version": "1.2.0",
          "model_name": "LayoutModel",
          "state": {
            "_model_module": "@jupyter-widgets/base",
            "_model_module_version": "1.2.0",
            "_model_name": "LayoutModel",
            "_view_count": null,
            "_view_module": "@jupyter-widgets/base",
            "_view_module_version": "1.2.0",
            "_view_name": "LayoutView",
            "align_content": null,
            "align_items": null,
            "align_self": null,
            "border": null,
            "bottom": null,
            "display": null,
            "flex": null,
            "flex_flow": null,
            "grid_area": null,
            "grid_auto_columns": null,
            "grid_auto_flow": null,
            "grid_auto_rows": null,
            "grid_column": null,
            "grid_gap": null,
            "grid_row": null,
            "grid_template_areas": null,
            "grid_template_columns": null,
            "grid_template_rows": null,
            "height": null,
            "justify_content": null,
            "justify_items": null,
            "left": null,
            "margin": null,
            "max_height": null,
            "max_width": null,
            "min_height": null,
            "min_width": null,
            "object_fit": null,
            "object_position": null,
            "order": null,
            "overflow": null,
            "overflow_x": null,
            "overflow_y": null,
            "padding": null,
            "right": null,
            "top": null,
            "visibility": null,
            "width": null
          }
        },
        "1258b9829ab94c03a95522e8ee14340d": {
          "model_module": "@jupyter-widgets/controls",
          "model_module_version": "1.5.0",
          "model_name": "ProgressStyleModel",
          "state": {
            "_model_module": "@jupyter-widgets/controls",
            "_model_module_version": "1.5.0",
            "_model_name": "ProgressStyleModel",
            "_view_count": null,
            "_view_module": "@jupyter-widgets/base",
            "_view_module_version": "1.2.0",
            "_view_name": "StyleView",
            "bar_color": null,
            "description_width": ""
          }
        },
        "1370652a1e5940c3ba9c7fb3f720eb42": {
          "model_module": "@jupyter-widgets/controls",
          "model_module_version": "1.5.0",
          "model_name": "HTMLModel",
          "state": {
            "_dom_classes": [],
            "_model_module": "@jupyter-widgets/controls",
            "_model_module_version": "1.5.0",
            "_model_name": "HTMLModel",
            "_view_count": null,
            "_view_module": "@jupyter-widgets/controls",
            "_view_module_version": "1.5.0",
            "_view_name": "HTMLView",
            "description": "",
            "description_tooltip": null,
            "layout": "IPY_MODEL_a303d194e3b442b2a9ff01628f5434ab",
            "placeholder": "​",
            "style": "IPY_MODEL_1ad8cccfe56e4950ad79a4f3958fa67c",
            "value": "1_Pooling/config.json: 100%"
          }
        },
        "1386c6ee969e402da0a316bb9fead7ed": {
          "model_module": "@jupyter-widgets/controls",
          "model_module_version": "1.5.0",
          "model_name": "FloatProgressModel",
          "state": {
            "_dom_classes": [],
            "_model_module": "@jupyter-widgets/controls",
            "_model_module_version": "1.5.0",
            "_model_name": "FloatProgressModel",
            "_view_count": null,
            "_view_module": "@jupyter-widgets/controls",
            "_view_module_version": "1.5.0",
            "_view_name": "ProgressView",
            "bar_style": "success",
            "description": "",
            "description_tooltip": null,
            "layout": "IPY_MODEL_e55db29b4ce046a6941ceb28c350de6d",
            "max": 231508,
            "min": 0,
            "orientation": "horizontal",
            "style": "IPY_MODEL_5b2f076693fa45cc86e0529671242cbe",
            "value": 231508
          }
        },
        "13b123465d3f479e8fef90116431fd34": {
          "model_module": "@jupyter-widgets/base",
          "model_module_version": "1.2.0",
          "model_name": "LayoutModel",
          "state": {
            "_model_module": "@jupyter-widgets/base",
            "_model_module_version": "1.2.0",
            "_model_name": "LayoutModel",
            "_view_count": null,
            "_view_module": "@jupyter-widgets/base",
            "_view_module_version": "1.2.0",
            "_view_name": "LayoutView",
            "align_content": null,
            "align_items": null,
            "align_self": null,
            "border": null,
            "bottom": null,
            "display": null,
            "flex": null,
            "flex_flow": null,
            "grid_area": null,
            "grid_auto_columns": null,
            "grid_auto_flow": null,
            "grid_auto_rows": null,
            "grid_column": null,
            "grid_gap": null,
            "grid_row": null,
            "grid_template_areas": null,
            "grid_template_columns": null,
            "grid_template_rows": null,
            "height": null,
            "justify_content": null,
            "justify_items": null,
            "left": null,
            "margin": null,
            "max_height": null,
            "max_width": null,
            "min_height": null,
            "min_width": null,
            "object_fit": null,
            "object_position": null,
            "order": null,
            "overflow": null,
            "overflow_x": null,
            "overflow_y": null,
            "padding": null,
            "right": null,
            "top": null,
            "visibility": null,
            "width": null
          }
        },
        "144187cae8aa4a24a8c7408fae80216c": {
          "model_module": "@jupyter-widgets/controls",
          "model_module_version": "1.5.0",
          "model_name": "ProgressStyleModel",
          "state": {
            "_model_module": "@jupyter-widgets/controls",
            "_model_module_version": "1.5.0",
            "_model_name": "ProgressStyleModel",
            "_view_count": null,
            "_view_module": "@jupyter-widgets/base",
            "_view_module_version": "1.2.0",
            "_view_name": "StyleView",
            "bar_color": null,
            "description_width": ""
          }
        },
        "186f0f387cb44d6187c9dfb1045cb241": {
          "model_module": "@jupyter-widgets/controls",
          "model_module_version": "1.5.0",
          "model_name": "HTMLModel",
          "state": {
            "_dom_classes": [],
            "_model_module": "@jupyter-widgets/controls",
            "_model_module_version": "1.5.0",
            "_model_name": "HTMLModel",
            "_view_count": null,
            "_view_module": "@jupyter-widgets/controls",
            "_view_module_version": "1.5.0",
            "_view_name": "HTMLView",
            "description": "",
            "description_tooltip": null,
            "layout": "IPY_MODEL_c4c4f32d6feb48aea75dbc65f562bd59",
            "placeholder": "​",
            "style": "IPY_MODEL_22d93a177e2243ffb6824e5298db5138",
            "value": " 116/116 [00:00&lt;00:00, 3.20kB/s]"
          }
        },
        "189d60dd68b44772a39bc163ec6bde35": {
          "model_module": "@jupyter-widgets/controls",
          "model_module_version": "1.5.0",
          "model_name": "HTMLModel",
          "state": {
            "_dom_classes": [],
            "_model_module": "@jupyter-widgets/controls",
            "_model_module_version": "1.5.0",
            "_model_name": "HTMLModel",
            "_view_count": null,
            "_view_module": "@jupyter-widgets/controls",
            "_view_module_version": "1.5.0",
            "_view_name": "HTMLView",
            "description": "",
            "description_tooltip": null,
            "layout": "IPY_MODEL_116d719d271f46d68b6d4e8d1d6febb3",
            "placeholder": "​",
            "style": "IPY_MODEL_fb9361b72d014e52861ce28f505a751a",
            "value": "special_tokens_map.json: 100%"
          }
        },
        "1ad8cccfe56e4950ad79a4f3958fa67c": {
          "model_module": "@jupyter-widgets/controls",
          "model_module_version": "1.5.0",
          "model_name": "DescriptionStyleModel",
          "state": {
            "_model_module": "@jupyter-widgets/controls",
            "_model_module_version": "1.5.0",
            "_model_name": "DescriptionStyleModel",
            "_view_count": null,
            "_view_module": "@jupyter-widgets/base",
            "_view_module_version": "1.2.0",
            "_view_name": "StyleView",
            "description_width": ""
          }
        },
        "20e5bdb7a2cd41c0983edcb3b98b6395": {
          "model_module": "@jupyter-widgets/controls",
          "model_module_version": "1.5.0",
          "model_name": "FloatProgressModel",
          "state": {
            "_dom_classes": [],
            "_model_module": "@jupyter-widgets/controls",
            "_model_module_version": "1.5.0",
            "_model_name": "FloatProgressModel",
            "_view_count": null,
            "_view_module": "@jupyter-widgets/controls",
            "_view_module_version": "1.5.0",
            "_view_name": "ProgressView",
            "bar_style": "success",
            "description": "",
            "description_tooltip": null,
            "layout": "IPY_MODEL_8544fa65c0b74decbf1e16676f350c30",
            "max": 90868376,
            "min": 0,
            "orientation": "horizontal",
            "style": "IPY_MODEL_4fc999630f044455bc2f26fee14d0462",
            "value": 90868376
          }
        },
        "229e7c6813c24ce9ba0f66ad1beff910": {
          "model_module": "@jupyter-widgets/base",
          "model_module_version": "1.2.0",
          "model_name": "LayoutModel",
          "state": {
            "_model_module": "@jupyter-widgets/base",
            "_model_module_version": "1.2.0",
            "_model_name": "LayoutModel",
            "_view_count": null,
            "_view_module": "@jupyter-widgets/base",
            "_view_module_version": "1.2.0",
            "_view_name": "LayoutView",
            "align_content": null,
            "align_items": null,
            "align_self": null,
            "border": null,
            "bottom": null,
            "display": null,
            "flex": null,
            "flex_flow": null,
            "grid_area": null,
            "grid_auto_columns": null,
            "grid_auto_flow": null,
            "grid_auto_rows": null,
            "grid_column": null,
            "grid_gap": null,
            "grid_row": null,
            "grid_template_areas": null,
            "grid_template_columns": null,
            "grid_template_rows": null,
            "height": null,
            "justify_content": null,
            "justify_items": null,
            "left": null,
            "margin": null,
            "max_height": null,
            "max_width": null,
            "min_height": null,
            "min_width": null,
            "object_fit": null,
            "object_position": null,
            "order": null,
            "overflow": null,
            "overflow_x": null,
            "overflow_y": null,
            "padding": null,
            "right": null,
            "top": null,
            "visibility": null,
            "width": null
          }
        },
        "22d93a177e2243ffb6824e5298db5138": {
          "model_module": "@jupyter-widgets/controls",
          "model_module_version": "1.5.0",
          "model_name": "DescriptionStyleModel",
          "state": {
            "_model_module": "@jupyter-widgets/controls",
            "_model_module_version": "1.5.0",
            "_model_name": "DescriptionStyleModel",
            "_view_count": null,
            "_view_module": "@jupyter-widgets/base",
            "_view_module_version": "1.2.0",
            "_view_name": "StyleView",
            "description_width": ""
          }
        },
        "253095a98e8840748bdfc41be144faba": {
          "model_module": "@jupyter-widgets/controls",
          "model_module_version": "1.5.0",
          "model_name": "HBoxModel",
          "state": {
            "_dom_classes": [],
            "_model_module": "@jupyter-widgets/controls",
            "_model_module_version": "1.5.0",
            "_model_name": "HBoxModel",
            "_view_count": null,
            "_view_module": "@jupyter-widgets/controls",
            "_view_module_version": "1.5.0",
            "_view_name": "HBoxView",
            "box_style": "",
            "children": [
              "IPY_MODEL_a893fb0bdec04a7c966f8d9a7a981f3c",
              "IPY_MODEL_aa9f2c8b0bca4be5b78c74538980ba7f",
              "IPY_MODEL_ab061fea5fc34038ae9a26c6ff981e35"
            ],
            "layout": "IPY_MODEL_c029d7e9a71a4f0a978e61ba6d9620e6"
          }
        },
        "29c86dfd24d7407aa025b50038ac815a": {
          "model_module": "@jupyter-widgets/base",
          "model_module_version": "1.2.0",
          "model_name": "LayoutModel",
          "state": {
            "_model_module": "@jupyter-widgets/base",
            "_model_module_version": "1.2.0",
            "_model_name": "LayoutModel",
            "_view_count": null,
            "_view_module": "@jupyter-widgets/base",
            "_view_module_version": "1.2.0",
            "_view_name": "LayoutView",
            "align_content": null,
            "align_items": null,
            "align_self": null,
            "border": null,
            "bottom": null,
            "display": null,
            "flex": null,
            "flex_flow": null,
            "grid_area": null,
            "grid_auto_columns": null,
            "grid_auto_flow": null,
            "grid_auto_rows": null,
            "grid_column": null,
            "grid_gap": null,
            "grid_row": null,
            "grid_template_areas": null,
            "grid_template_columns": null,
            "grid_template_rows": null,
            "height": null,
            "justify_content": null,
            "justify_items": null,
            "left": null,
            "margin": null,
            "max_height": null,
            "max_width": null,
            "min_height": null,
            "min_width": null,
            "object_fit": null,
            "object_position": null,
            "order": null,
            "overflow": null,
            "overflow_x": null,
            "overflow_y": null,
            "padding": null,
            "right": null,
            "top": null,
            "visibility": null,
            "width": null
          }
        },
        "2b53e94467a241dc8be212d83f549e6d": {
          "model_module": "@jupyter-widgets/base",
          "model_module_version": "1.2.0",
          "model_name": "LayoutModel",
          "state": {
            "_model_module": "@jupyter-widgets/base",
            "_model_module_version": "1.2.0",
            "_model_name": "LayoutModel",
            "_view_count": null,
            "_view_module": "@jupyter-widgets/base",
            "_view_module_version": "1.2.0",
            "_view_name": "LayoutView",
            "align_content": null,
            "align_items": null,
            "align_self": null,
            "border": null,
            "bottom": null,
            "display": null,
            "flex": null,
            "flex_flow": null,
            "grid_area": null,
            "grid_auto_columns": null,
            "grid_auto_flow": null,
            "grid_auto_rows": null,
            "grid_column": null,
            "grid_gap": null,
            "grid_row": null,
            "grid_template_areas": null,
            "grid_template_columns": null,
            "grid_template_rows": null,
            "height": null,
            "justify_content": null,
            "justify_items": null,
            "left": null,
            "margin": null,
            "max_height": null,
            "max_width": null,
            "min_height": null,
            "min_width": null,
            "object_fit": null,
            "object_position": null,
            "order": null,
            "overflow": null,
            "overflow_x": null,
            "overflow_y": null,
            "padding": null,
            "right": null,
            "top": null,
            "visibility": null,
            "width": null
          }
        },
        "2c418f95ca454e99a74a7f3f459d2b41": {
          "model_module": "@jupyter-widgets/controls",
          "model_module_version": "1.5.0",
          "model_name": "HBoxModel",
          "state": {
            "_dom_classes": [],
            "_model_module": "@jupyter-widgets/controls",
            "_model_module_version": "1.5.0",
            "_model_name": "HBoxModel",
            "_view_count": null,
            "_view_module": "@jupyter-widgets/controls",
            "_view_module_version": "1.5.0",
            "_view_name": "HBoxView",
            "box_style": "",
            "children": [
              "IPY_MODEL_1370652a1e5940c3ba9c7fb3f720eb42",
              "IPY_MODEL_ce9c8a8906a34f80ae1f71c160e5bb99",
              "IPY_MODEL_abfeb4fba56a4ca88b8daf77bee5e711"
            ],
            "layout": "IPY_MODEL_04aa42418a024fbea67b03e9cad55c84"
          }
        },
        "2d12d2c0a4bb46b8bec63719767a6ce4": {
          "model_module": "@jupyter-widgets/base",
          "model_module_version": "1.2.0",
          "model_name": "LayoutModel",
          "state": {
            "_model_module": "@jupyter-widgets/base",
            "_model_module_version": "1.2.0",
            "_model_name": "LayoutModel",
            "_view_count": null,
            "_view_module": "@jupyter-widgets/base",
            "_view_module_version": "1.2.0",
            "_view_name": "LayoutView",
            "align_content": null,
            "align_items": null,
            "align_self": null,
            "border": null,
            "bottom": null,
            "display": null,
            "flex": null,
            "flex_flow": null,
            "grid_area": null,
            "grid_auto_columns": null,
            "grid_auto_flow": null,
            "grid_auto_rows": null,
            "grid_column": null,
            "grid_gap": null,
            "grid_row": null,
            "grid_template_areas": null,
            "grid_template_columns": null,
            "grid_template_rows": null,
            "height": null,
            "justify_content": null,
            "justify_items": null,
            "left": null,
            "margin": null,
            "max_height": null,
            "max_width": null,
            "min_height": null,
            "min_width": null,
            "object_fit": null,
            "object_position": null,
            "order": null,
            "overflow": null,
            "overflow_x": null,
            "overflow_y": null,
            "padding": null,
            "right": null,
            "top": null,
            "visibility": null,
            "width": null
          }
        },
        "2d94ddc289e549bd88a8a8afe2e5d750": {
          "model_module": "@jupyter-widgets/controls",
          "model_module_version": "1.5.0",
          "model_name": "HTMLModel",
          "state": {
            "_dom_classes": [],
            "_model_module": "@jupyter-widgets/controls",
            "_model_module_version": "1.5.0",
            "_model_name": "HTMLModel",
            "_view_count": null,
            "_view_module": "@jupyter-widgets/controls",
            "_view_module_version": "1.5.0",
            "_view_name": "HTMLView",
            "description": "",
            "description_tooltip": null,
            "layout": "IPY_MODEL_4f6fc58192fd4484a8abdd5b7456735d",
            "placeholder": "​",
            "style": "IPY_MODEL_9a1b0947dcef49888ff654773cb58a72",
            "value": "vocab.txt: 100%"
          }
        },
        "2dccef966bf24b199c8ead5afb6300f1": {
          "model_module": "@jupyter-widgets/controls",
          "model_module_version": "1.5.0",
          "model_name": "HBoxModel",
          "state": {
            "_dom_classes": [],
            "_model_module": "@jupyter-widgets/controls",
            "_model_module_version": "1.5.0",
            "_model_name": "HBoxModel",
            "_view_count": null,
            "_view_module": "@jupyter-widgets/controls",
            "_view_module_version": "1.5.0",
            "_view_name": "HBoxView",
            "box_style": "",
            "children": [
              "IPY_MODEL_0179129fafd348d9b79d41fdc8c79afe",
              "IPY_MODEL_c744ca8fc60945be8f965819b78b047a",
              "IPY_MODEL_3f06905028cb46ab8fca02d22dd0fbc6"
            ],
            "layout": "IPY_MODEL_5774df8a609248c7a39c5b1ed0f06b76"
          }
        },
        "2ddb8ce0282045a2ace3c73310821666": {
          "model_module": "@jupyter-widgets/controls",
          "model_module_version": "1.5.0",
          "model_name": "FloatProgressModel",
          "state": {
            "_dom_classes": [],
            "_model_module": "@jupyter-widgets/controls",
            "_model_module_version": "1.5.0",
            "_model_name": "FloatProgressModel",
            "_view_count": null,
            "_view_module": "@jupyter-widgets/controls",
            "_view_module_version": "1.5.0",
            "_view_name": "ProgressView",
            "bar_style": "success",
            "description": "",
            "description_tooltip": null,
            "layout": "IPY_MODEL_0bf9f2579af946e1aa62bc39969116d1",
            "max": 112,
            "min": 0,
            "orientation": "horizontal",
            "style": "IPY_MODEL_5410942874c046a9868e8f219313dbcd",
            "value": 112
          }
        },
        "2eb155b68aaa458f99abbad97a4f4ec8": {
          "model_module": "@jupyter-widgets/base",
          "model_module_version": "1.2.0",
          "model_name": "LayoutModel",
          "state": {
            "_model_module": "@jupyter-widgets/base",
            "_model_module_version": "1.2.0",
            "_model_name": "LayoutModel",
            "_view_count": null,
            "_view_module": "@jupyter-widgets/base",
            "_view_module_version": "1.2.0",
            "_view_name": "LayoutView",
            "align_content": null,
            "align_items": null,
            "align_self": null,
            "border": null,
            "bottom": null,
            "display": null,
            "flex": null,
            "flex_flow": null,
            "grid_area": null,
            "grid_auto_columns": null,
            "grid_auto_flow": null,
            "grid_auto_rows": null,
            "grid_column": null,
            "grid_gap": null,
            "grid_row": null,
            "grid_template_areas": null,
            "grid_template_columns": null,
            "grid_template_rows": null,
            "height": null,
            "justify_content": null,
            "justify_items": null,
            "left": null,
            "margin": null,
            "max_height": null,
            "max_width": null,
            "min_height": null,
            "min_width": null,
            "object_fit": null,
            "object_position": null,
            "order": null,
            "overflow": null,
            "overflow_x": null,
            "overflow_y": null,
            "padding": null,
            "right": null,
            "top": null,
            "visibility": null,
            "width": null
          }
        },
        "301e8a03cea74e3493db92a886f5d792": {
          "model_module": "@jupyter-widgets/controls",
          "model_module_version": "1.5.0",
          "model_name": "HTMLModel",
          "state": {
            "_dom_classes": [],
            "_model_module": "@jupyter-widgets/controls",
            "_model_module_version": "1.5.0",
            "_model_name": "HTMLModel",
            "_view_count": null,
            "_view_module": "@jupyter-widgets/controls",
            "_view_module_version": "1.5.0",
            "_view_name": "HTMLView",
            "description": "",
            "description_tooltip": null,
            "layout": "IPY_MODEL_bff056c166e845a5aa4b0ea28fa7bb42",
            "placeholder": "​",
            "style": "IPY_MODEL_c0f0d198f50a4fcbbf16b5a37efc6537",
            "value": " 350/350 [00:00&lt;00:00, 10.9kB/s]"
          }
        },
        "318ba4893b2042d5a483403d0811a22f": {
          "model_module": "@jupyter-widgets/controls",
          "model_module_version": "1.5.0",
          "model_name": "DescriptionStyleModel",
          "state": {
            "_model_module": "@jupyter-widgets/controls",
            "_model_module_version": "1.5.0",
            "_model_name": "DescriptionStyleModel",
            "_view_count": null,
            "_view_module": "@jupyter-widgets/base",
            "_view_module_version": "1.2.0",
            "_view_name": "StyleView",
            "description_width": ""
          }
        },
        "372908f368574b8e8b10dc92977bf514": {
          "model_module": "@jupyter-widgets/base",
          "model_module_version": "1.2.0",
          "model_name": "LayoutModel",
          "state": {
            "_model_module": "@jupyter-widgets/base",
            "_model_module_version": "1.2.0",
            "_model_name": "LayoutModel",
            "_view_count": null,
            "_view_module": "@jupyter-widgets/base",
            "_view_module_version": "1.2.0",
            "_view_name": "LayoutView",
            "align_content": null,
            "align_items": null,
            "align_self": null,
            "border": null,
            "bottom": null,
            "display": null,
            "flex": null,
            "flex_flow": null,
            "grid_area": null,
            "grid_auto_columns": null,
            "grid_auto_flow": null,
            "grid_auto_rows": null,
            "grid_column": null,
            "grid_gap": null,
            "grid_row": null,
            "grid_template_areas": null,
            "grid_template_columns": null,
            "grid_template_rows": null,
            "height": null,
            "justify_content": null,
            "justify_items": null,
            "left": null,
            "margin": null,
            "max_height": null,
            "max_width": null,
            "min_height": null,
            "min_width": null,
            "object_fit": null,
            "object_position": null,
            "order": null,
            "overflow": null,
            "overflow_x": null,
            "overflow_y": null,
            "padding": null,
            "right": null,
            "top": null,
            "visibility": null,
            "width": null
          }
        },
        "39b594e63271421bb05f3ed197b360e2": {
          "model_module": "@jupyter-widgets/base",
          "model_module_version": "1.2.0",
          "model_name": "LayoutModel",
          "state": {
            "_model_module": "@jupyter-widgets/base",
            "_model_module_version": "1.2.0",
            "_model_name": "LayoutModel",
            "_view_count": null,
            "_view_module": "@jupyter-widgets/base",
            "_view_module_version": "1.2.0",
            "_view_name": "LayoutView",
            "align_content": null,
            "align_items": null,
            "align_self": null,
            "border": null,
            "bottom": null,
            "display": null,
            "flex": null,
            "flex_flow": null,
            "grid_area": null,
            "grid_auto_columns": null,
            "grid_auto_flow": null,
            "grid_auto_rows": null,
            "grid_column": null,
            "grid_gap": null,
            "grid_row": null,
            "grid_template_areas": null,
            "grid_template_columns": null,
            "grid_template_rows": null,
            "height": null,
            "justify_content": null,
            "justify_items": null,
            "left": null,
            "margin": null,
            "max_height": null,
            "max_width": null,
            "min_height": null,
            "min_width": null,
            "object_fit": null,
            "object_position": null,
            "order": null,
            "overflow": null,
            "overflow_x": null,
            "overflow_y": null,
            "padding": null,
            "right": null,
            "top": null,
            "visibility": null,
            "width": null
          }
        },
        "3b62b085eba84d02a3f9eb4e64d9bae9": {
          "model_module": "@jupyter-widgets/controls",
          "model_module_version": "1.5.0",
          "model_name": "HBoxModel",
          "state": {
            "_dom_classes": [],
            "_model_module": "@jupyter-widgets/controls",
            "_model_module_version": "1.5.0",
            "_model_name": "HBoxModel",
            "_view_count": null,
            "_view_module": "@jupyter-widgets/controls",
            "_view_module_version": "1.5.0",
            "_view_name": "HBoxView",
            "box_style": "",
            "children": [
              "IPY_MODEL_3c1e70e6087c4985ad31159fcfba028c",
              "IPY_MODEL_0513eaa379134864933598e01314bfea",
              "IPY_MODEL_b0cbdc283943419b98455259c88aba45"
            ],
            "layout": "IPY_MODEL_c5aaf61984c54c69a6ae6bbc40b84a26"
          }
        },
        "3c1e70e6087c4985ad31159fcfba028c": {
          "model_module": "@jupyter-widgets/controls",
          "model_module_version": "1.5.0",
          "model_name": "HTMLModel",
          "state": {
            "_dom_classes": [],
            "_model_module": "@jupyter-widgets/controls",
            "_model_module_version": "1.5.0",
            "_model_name": "HTMLModel",
            "_view_count": null,
            "_view_module": "@jupyter-widgets/controls",
            "_view_module_version": "1.5.0",
            "_view_name": "HTMLView",
            "description": "",
            "description_tooltip": null,
            "layout": "IPY_MODEL_372908f368574b8e8b10dc92977bf514",
            "placeholder": "​",
            "style": "IPY_MODEL_9cc77647183f4cc0ae70a8744f31fc87",
            "value": "README.md: 100%"
          }
        },
        "3def57bf2a93485790a5bebbffe552ed": {
          "model_module": "@jupyter-widgets/controls",
          "model_module_version": "1.5.0",
          "model_name": "DescriptionStyleModel",
          "state": {
            "_model_module": "@jupyter-widgets/controls",
            "_model_module_version": "1.5.0",
            "_model_name": "DescriptionStyleModel",
            "_view_count": null,
            "_view_module": "@jupyter-widgets/base",
            "_view_module_version": "1.2.0",
            "_view_name": "StyleView",
            "description_width": ""
          }
        },
        "3e38f154497d455d90e76dd44c02ad0e": {
          "model_module": "@jupyter-widgets/controls",
          "model_module_version": "1.5.0",
          "model_name": "DescriptionStyleModel",
          "state": {
            "_model_module": "@jupyter-widgets/controls",
            "_model_module_version": "1.5.0",
            "_model_name": "DescriptionStyleModel",
            "_view_count": null,
            "_view_module": "@jupyter-widgets/base",
            "_view_module_version": "1.2.0",
            "_view_name": "StyleView",
            "description_width": ""
          }
        },
        "3f06905028cb46ab8fca02d22dd0fbc6": {
          "model_module": "@jupyter-widgets/controls",
          "model_module_version": "1.5.0",
          "model_name": "HTMLModel",
          "state": {
            "_dom_classes": [],
            "_model_module": "@jupyter-widgets/controls",
            "_model_module_version": "1.5.0",
            "_model_name": "HTMLModel",
            "_view_count": null,
            "_view_module": "@jupyter-widgets/controls",
            "_view_module_version": "1.5.0",
            "_view_name": "HTMLView",
            "description": "",
            "description_tooltip": null,
            "layout": "IPY_MODEL_2d12d2c0a4bb46b8bec63719767a6ce4",
            "placeholder": "​",
            "style": "IPY_MODEL_318ba4893b2042d5a483403d0811a22f",
            "value": " 349/349 [00:00&lt;00:00, 12.0kB/s]"
          }
        },
        "41b92963e560454c9fc00ee520d5e6e3": {
          "model_module": "@jupyter-widgets/controls",
          "model_module_version": "1.5.0",
          "model_name": "HTMLModel",
          "state": {
            "_dom_classes": [],
            "_model_module": "@jupyter-widgets/controls",
            "_model_module_version": "1.5.0",
            "_model_name": "HTMLModel",
            "_view_count": null,
            "_view_module": "@jupyter-widgets/controls",
            "_view_module_version": "1.5.0",
            "_view_name": "HTMLView",
            "description": "",
            "description_tooltip": null,
            "layout": "IPY_MODEL_5102cefa256c42888a51ae6e5f7ac9b3",
            "placeholder": "​",
            "style": "IPY_MODEL_602760c3bb204ce7af14e2362352b07a",
            "value": "tokenizer.json: 100%"
          }
        },
        "43fb914320e748ab887e9c37f812dd96": {
          "model_module": "@jupyter-widgets/controls",
          "model_module_version": "1.5.0",
          "model_name": "HBoxModel",
          "state": {
            "_dom_classes": [],
            "_model_module": "@jupyter-widgets/controls",
            "_model_module_version": "1.5.0",
            "_model_name": "HBoxModel",
            "_view_count": null,
            "_view_module": "@jupyter-widgets/controls",
            "_view_module_version": "1.5.0",
            "_view_name": "HBoxView",
            "box_style": "",
            "children": [
              "IPY_MODEL_189d60dd68b44772a39bc163ec6bde35",
              "IPY_MODEL_2ddb8ce0282045a2ace3c73310821666",
              "IPY_MODEL_8099c6232944429baa5ba55aee10b0a4"
            ],
            "layout": "IPY_MODEL_d0b5949764ff47d592f8eead81b79f1d"
          }
        },
        "469c5bfee0ba41a4821ad555a296125a": {
          "model_module": "@jupyter-widgets/controls",
          "model_module_version": "1.5.0",
          "model_name": "DescriptionStyleModel",
          "state": {
            "_model_module": "@jupyter-widgets/controls",
            "_model_module_version": "1.5.0",
            "_model_name": "DescriptionStyleModel",
            "_view_count": null,
            "_view_module": "@jupyter-widgets/base",
            "_view_module_version": "1.2.0",
            "_view_name": "StyleView",
            "description_width": ""
          }
        },
        "47972a26667949bbad75aca068af346b": {
          "model_module": "@jupyter-widgets/base",
          "model_module_version": "1.2.0",
          "model_name": "LayoutModel",
          "state": {
            "_model_module": "@jupyter-widgets/base",
            "_model_module_version": "1.2.0",
            "_model_name": "LayoutModel",
            "_view_count": null,
            "_view_module": "@jupyter-widgets/base",
            "_view_module_version": "1.2.0",
            "_view_name": "LayoutView",
            "align_content": null,
            "align_items": null,
            "align_self": null,
            "border": null,
            "bottom": null,
            "display": null,
            "flex": null,
            "flex_flow": null,
            "grid_area": null,
            "grid_auto_columns": null,
            "grid_auto_flow": null,
            "grid_auto_rows": null,
            "grid_column": null,
            "grid_gap": null,
            "grid_row": null,
            "grid_template_areas": null,
            "grid_template_columns": null,
            "grid_template_rows": null,
            "height": null,
            "justify_content": null,
            "justify_items": null,
            "left": null,
            "margin": null,
            "max_height": null,
            "max_width": null,
            "min_height": null,
            "min_width": null,
            "object_fit": null,
            "object_position": null,
            "order": null,
            "overflow": null,
            "overflow_x": null,
            "overflow_y": null,
            "padding": null,
            "right": null,
            "top": null,
            "visibility": null,
            "width": null
          }
        },
        "49abdc10a3ff41709b4c503b04706a0e": {
          "model_module": "@jupyter-widgets/controls",
          "model_module_version": "1.5.0",
          "model_name": "DescriptionStyleModel",
          "state": {
            "_model_module": "@jupyter-widgets/controls",
            "_model_module_version": "1.5.0",
            "_model_name": "DescriptionStyleModel",
            "_view_count": null,
            "_view_module": "@jupyter-widgets/base",
            "_view_module_version": "1.2.0",
            "_view_name": "StyleView",
            "description_width": ""
          }
        },
        "4f6fc58192fd4484a8abdd5b7456735d": {
          "model_module": "@jupyter-widgets/base",
          "model_module_version": "1.2.0",
          "model_name": "LayoutModel",
          "state": {
            "_model_module": "@jupyter-widgets/base",
            "_model_module_version": "1.2.0",
            "_model_name": "LayoutModel",
            "_view_count": null,
            "_view_module": "@jupyter-widgets/base",
            "_view_module_version": "1.2.0",
            "_view_name": "LayoutView",
            "align_content": null,
            "align_items": null,
            "align_self": null,
            "border": null,
            "bottom": null,
            "display": null,
            "flex": null,
            "flex_flow": null,
            "grid_area": null,
            "grid_auto_columns": null,
            "grid_auto_flow": null,
            "grid_auto_rows": null,
            "grid_column": null,
            "grid_gap": null,
            "grid_row": null,
            "grid_template_areas": null,
            "grid_template_columns": null,
            "grid_template_rows": null,
            "height": null,
            "justify_content": null,
            "justify_items": null,
            "left": null,
            "margin": null,
            "max_height": null,
            "max_width": null,
            "min_height": null,
            "min_width": null,
            "object_fit": null,
            "object_position": null,
            "order": null,
            "overflow": null,
            "overflow_x": null,
            "overflow_y": null,
            "padding": null,
            "right": null,
            "top": null,
            "visibility": null,
            "width": null
          }
        },
        "4fc999630f044455bc2f26fee14d0462": {
          "model_module": "@jupyter-widgets/controls",
          "model_module_version": "1.5.0",
          "model_name": "ProgressStyleModel",
          "state": {
            "_model_module": "@jupyter-widgets/controls",
            "_model_module_version": "1.5.0",
            "_model_name": "ProgressStyleModel",
            "_view_count": null,
            "_view_module": "@jupyter-widgets/base",
            "_view_module_version": "1.2.0",
            "_view_name": "StyleView",
            "bar_color": null,
            "description_width": ""
          }
        },
        "509f37da06b948b9b73e517f4cdfe486": {
          "model_module": "@jupyter-widgets/controls",
          "model_module_version": "1.5.0",
          "model_name": "DescriptionStyleModel",
          "state": {
            "_model_module": "@jupyter-widgets/controls",
            "_model_module_version": "1.5.0",
            "_model_name": "DescriptionStyleModel",
            "_view_count": null,
            "_view_module": "@jupyter-widgets/base",
            "_view_module_version": "1.2.0",
            "_view_name": "StyleView",
            "description_width": ""
          }
        },
        "5102cefa256c42888a51ae6e5f7ac9b3": {
          "model_module": "@jupyter-widgets/base",
          "model_module_version": "1.2.0",
          "model_name": "LayoutModel",
          "state": {
            "_model_module": "@jupyter-widgets/base",
            "_model_module_version": "1.2.0",
            "_model_name": "LayoutModel",
            "_view_count": null,
            "_view_module": "@jupyter-widgets/base",
            "_view_module_version": "1.2.0",
            "_view_name": "LayoutView",
            "align_content": null,
            "align_items": null,
            "align_self": null,
            "border": null,
            "bottom": null,
            "display": null,
            "flex": null,
            "flex_flow": null,
            "grid_area": null,
            "grid_auto_columns": null,
            "grid_auto_flow": null,
            "grid_auto_rows": null,
            "grid_column": null,
            "grid_gap": null,
            "grid_row": null,
            "grid_template_areas": null,
            "grid_template_columns": null,
            "grid_template_rows": null,
            "height": null,
            "justify_content": null,
            "justify_items": null,
            "left": null,
            "margin": null,
            "max_height": null,
            "max_width": null,
            "min_height": null,
            "min_width": null,
            "object_fit": null,
            "object_position": null,
            "order": null,
            "overflow": null,
            "overflow_x": null,
            "overflow_y": null,
            "padding": null,
            "right": null,
            "top": null,
            "visibility": null,
            "width": null
          }
        },
        "51d3bdd5b0a24f95a8c57126ed953cf1": {
          "model_module": "@jupyter-widgets/controls",
          "model_module_version": "1.5.0",
          "model_name": "ProgressStyleModel",
          "state": {
            "_model_module": "@jupyter-widgets/controls",
            "_model_module_version": "1.5.0",
            "_model_name": "ProgressStyleModel",
            "_view_count": null,
            "_view_module": "@jupyter-widgets/base",
            "_view_module_version": "1.2.0",
            "_view_name": "StyleView",
            "bar_color": null,
            "description_width": ""
          }
        },
        "53861c7be59c47ad81ea712d8e42f314": {
          "model_module": "@jupyter-widgets/base",
          "model_module_version": "1.2.0",
          "model_name": "LayoutModel",
          "state": {
            "_model_module": "@jupyter-widgets/base",
            "_model_module_version": "1.2.0",
            "_model_name": "LayoutModel",
            "_view_count": null,
            "_view_module": "@jupyter-widgets/base",
            "_view_module_version": "1.2.0",
            "_view_name": "LayoutView",
            "align_content": null,
            "align_items": null,
            "align_self": null,
            "border": null,
            "bottom": null,
            "display": null,
            "flex": null,
            "flex_flow": null,
            "grid_area": null,
            "grid_auto_columns": null,
            "grid_auto_flow": null,
            "grid_auto_rows": null,
            "grid_column": null,
            "grid_gap": null,
            "grid_row": null,
            "grid_template_areas": null,
            "grid_template_columns": null,
            "grid_template_rows": null,
            "height": null,
            "justify_content": null,
            "justify_items": null,
            "left": null,
            "margin": null,
            "max_height": null,
            "max_width": null,
            "min_height": null,
            "min_width": null,
            "object_fit": null,
            "object_position": null,
            "order": null,
            "overflow": null,
            "overflow_x": null,
            "overflow_y": null,
            "padding": null,
            "right": null,
            "top": null,
            "visibility": null,
            "width": null
          }
        },
        "5410942874c046a9868e8f219313dbcd": {
          "model_module": "@jupyter-widgets/controls",
          "model_module_version": "1.5.0",
          "model_name": "ProgressStyleModel",
          "state": {
            "_model_module": "@jupyter-widgets/controls",
            "_model_module_version": "1.5.0",
            "_model_name": "ProgressStyleModel",
            "_view_count": null,
            "_view_module": "@jupyter-widgets/base",
            "_view_module_version": "1.2.0",
            "_view_name": "StyleView",
            "bar_color": null,
            "description_width": ""
          }
        },
        "54e5617cebba42858f2f14d898422891": {
          "model_module": "@jupyter-widgets/controls",
          "model_module_version": "1.5.0",
          "model_name": "ProgressStyleModel",
          "state": {
            "_model_module": "@jupyter-widgets/controls",
            "_model_module_version": "1.5.0",
            "_model_name": "ProgressStyleModel",
            "_view_count": null,
            "_view_module": "@jupyter-widgets/base",
            "_view_module_version": "1.2.0",
            "_view_name": "StyleView",
            "bar_color": null,
            "description_width": ""
          }
        },
        "5774df8a609248c7a39c5b1ed0f06b76": {
          "model_module": "@jupyter-widgets/base",
          "model_module_version": "1.2.0",
          "model_name": "LayoutModel",
          "state": {
            "_model_module": "@jupyter-widgets/base",
            "_model_module_version": "1.2.0",
            "_model_name": "LayoutModel",
            "_view_count": null,
            "_view_module": "@jupyter-widgets/base",
            "_view_module_version": "1.2.0",
            "_view_name": "LayoutView",
            "align_content": null,
            "align_items": null,
            "align_self": null,
            "border": null,
            "bottom": null,
            "display": null,
            "flex": null,
            "flex_flow": null,
            "grid_area": null,
            "grid_auto_columns": null,
            "grid_auto_flow": null,
            "grid_auto_rows": null,
            "grid_column": null,
            "grid_gap": null,
            "grid_row": null,
            "grid_template_areas": null,
            "grid_template_columns": null,
            "grid_template_rows": null,
            "height": null,
            "justify_content": null,
            "justify_items": null,
            "left": null,
            "margin": null,
            "max_height": null,
            "max_width": null,
            "min_height": null,
            "min_width": null,
            "object_fit": null,
            "object_position": null,
            "order": null,
            "overflow": null,
            "overflow_x": null,
            "overflow_y": null,
            "padding": null,
            "right": null,
            "top": null,
            "visibility": null,
            "width": null
          }
        },
        "5a7061ec2b6849a6a11927c7099d8343": {
          "model_module": "@jupyter-widgets/controls",
          "model_module_version": "1.5.0",
          "model_name": "HBoxModel",
          "state": {
            "_dom_classes": [],
            "_model_module": "@jupyter-widgets/controls",
            "_model_module_version": "1.5.0",
            "_model_name": "HBoxModel",
            "_view_count": null,
            "_view_module": "@jupyter-widgets/controls",
            "_view_module_version": "1.5.0",
            "_view_name": "HBoxView",
            "box_style": "",
            "children": [
              "IPY_MODEL_41b92963e560454c9fc00ee520d5e6e3",
              "IPY_MODEL_f526f2437e6347d09c1012c9fec2d79a",
              "IPY_MODEL_e71bdc11780d421cb28d49e0e10374af"
            ],
            "layout": "IPY_MODEL_2b53e94467a241dc8be212d83f549e6d"
          }
        },
        "5b2f076693fa45cc86e0529671242cbe": {
          "model_module": "@jupyter-widgets/controls",
          "model_module_version": "1.5.0",
          "model_name": "ProgressStyleModel",
          "state": {
            "_model_module": "@jupyter-widgets/controls",
            "_model_module_version": "1.5.0",
            "_model_name": "ProgressStyleModel",
            "_view_count": null,
            "_view_module": "@jupyter-widgets/base",
            "_view_module_version": "1.2.0",
            "_view_name": "StyleView",
            "bar_color": null,
            "description_width": ""
          }
        },
        "5e473e3da9a44cc3b13744b04c6ac15b": {
          "model_module": "@jupyter-widgets/base",
          "model_module_version": "1.2.0",
          "model_name": "LayoutModel",
          "state": {
            "_model_module": "@jupyter-widgets/base",
            "_model_module_version": "1.2.0",
            "_model_name": "LayoutModel",
            "_view_count": null,
            "_view_module": "@jupyter-widgets/base",
            "_view_module_version": "1.2.0",
            "_view_name": "LayoutView",
            "align_content": null,
            "align_items": null,
            "align_self": null,
            "border": null,
            "bottom": null,
            "display": null,
            "flex": null,
            "flex_flow": null,
            "grid_area": null,
            "grid_auto_columns": null,
            "grid_auto_flow": null,
            "grid_auto_rows": null,
            "grid_column": null,
            "grid_gap": null,
            "grid_row": null,
            "grid_template_areas": null,
            "grid_template_columns": null,
            "grid_template_rows": null,
            "height": null,
            "justify_content": null,
            "justify_items": null,
            "left": null,
            "margin": null,
            "max_height": null,
            "max_width": null,
            "min_height": null,
            "min_width": null,
            "object_fit": null,
            "object_position": null,
            "order": null,
            "overflow": null,
            "overflow_x": null,
            "overflow_y": null,
            "padding": null,
            "right": null,
            "top": null,
            "visibility": null,
            "width": null
          }
        },
        "602760c3bb204ce7af14e2362352b07a": {
          "model_module": "@jupyter-widgets/controls",
          "model_module_version": "1.5.0",
          "model_name": "DescriptionStyleModel",
          "state": {
            "_model_module": "@jupyter-widgets/controls",
            "_model_module_version": "1.5.0",
            "_model_name": "DescriptionStyleModel",
            "_view_count": null,
            "_view_module": "@jupyter-widgets/base",
            "_view_module_version": "1.2.0",
            "_view_name": "StyleView",
            "description_width": ""
          }
        },
        "602b317680ba4756ad27f41d32414ddc": {
          "model_module": "@jupyter-widgets/controls",
          "model_module_version": "1.5.0",
          "model_name": "HTMLModel",
          "state": {
            "_dom_classes": [],
            "_model_module": "@jupyter-widgets/controls",
            "_model_module_version": "1.5.0",
            "_model_name": "HTMLModel",
            "_view_count": null,
            "_view_module": "@jupyter-widgets/controls",
            "_view_module_version": "1.5.0",
            "_view_name": "HTMLView",
            "description": "",
            "description_tooltip": null,
            "layout": "IPY_MODEL_d20a0eeffb354fc8b212c83979e31c0e",
            "placeholder": "​",
            "style": "IPY_MODEL_509f37da06b948b9b73e517f4cdfe486",
            "value": "model.safetensors: 100%"
          }
        },
        "63709f8279004a218dd28e21768e6413": {
          "model_module": "@jupyter-widgets/controls",
          "model_module_version": "1.5.0",
          "model_name": "ProgressStyleModel",
          "state": {
            "_model_module": "@jupyter-widgets/controls",
            "_model_module_version": "1.5.0",
            "_model_name": "ProgressStyleModel",
            "_view_count": null,
            "_view_module": "@jupyter-widgets/base",
            "_view_module_version": "1.2.0",
            "_view_name": "StyleView",
            "bar_color": null,
            "description_width": ""
          }
        },
        "6b8955ed115e43bd8145432eb8e4ccb5": {
          "model_module": "@jupyter-widgets/base",
          "model_module_version": "1.2.0",
          "model_name": "LayoutModel",
          "state": {
            "_model_module": "@jupyter-widgets/base",
            "_model_module_version": "1.2.0",
            "_model_name": "LayoutModel",
            "_view_count": null,
            "_view_module": "@jupyter-widgets/base",
            "_view_module_version": "1.2.0",
            "_view_name": "LayoutView",
            "align_content": null,
            "align_items": null,
            "align_self": null,
            "border": null,
            "bottom": null,
            "display": null,
            "flex": null,
            "flex_flow": null,
            "grid_area": null,
            "grid_auto_columns": null,
            "grid_auto_flow": null,
            "grid_auto_rows": null,
            "grid_column": null,
            "grid_gap": null,
            "grid_row": null,
            "grid_template_areas": null,
            "grid_template_columns": null,
            "grid_template_rows": null,
            "height": null,
            "justify_content": null,
            "justify_items": null,
            "left": null,
            "margin": null,
            "max_height": null,
            "max_width": null,
            "min_height": null,
            "min_width": null,
            "object_fit": null,
            "object_position": null,
            "order": null,
            "overflow": null,
            "overflow_x": null,
            "overflow_y": null,
            "padding": null,
            "right": null,
            "top": null,
            "visibility": null,
            "width": null
          }
        },
        "6d0d32e2a2d3461a8bf739597f2ffca7": {
          "model_module": "@jupyter-widgets/controls",
          "model_module_version": "1.5.0",
          "model_name": "DescriptionStyleModel",
          "state": {
            "_model_module": "@jupyter-widgets/controls",
            "_model_module_version": "1.5.0",
            "_model_name": "DescriptionStyleModel",
            "_view_count": null,
            "_view_module": "@jupyter-widgets/base",
            "_view_module_version": "1.2.0",
            "_view_name": "StyleView",
            "description_width": ""
          }
        },
        "6de0634717c949438f932f749b0fdb46": {
          "model_module": "@jupyter-widgets/controls",
          "model_module_version": "1.5.0",
          "model_name": "ProgressStyleModel",
          "state": {
            "_model_module": "@jupyter-widgets/controls",
            "_model_module_version": "1.5.0",
            "_model_name": "ProgressStyleModel",
            "_view_count": null,
            "_view_module": "@jupyter-widgets/base",
            "_view_module_version": "1.2.0",
            "_view_name": "StyleView",
            "bar_color": null,
            "description_width": ""
          }
        },
        "72cc2b2a5056420fb7c68e37b1ee5a8a": {
          "model_module": "@jupyter-widgets/controls",
          "model_module_version": "1.5.0",
          "model_name": "FloatProgressModel",
          "state": {
            "_dom_classes": [],
            "_model_module": "@jupyter-widgets/controls",
            "_model_module_version": "1.5.0",
            "_model_name": "FloatProgressModel",
            "_view_count": null,
            "_view_module": "@jupyter-widgets/controls",
            "_view_module_version": "1.5.0",
            "_view_name": "ProgressView",
            "bar_style": "success",
            "description": "",
            "description_tooltip": null,
            "layout": "IPY_MODEL_e97fd8408bb741aeae14bda27b9a6fa7",
            "max": 116,
            "min": 0,
            "orientation": "horizontal",
            "style": "IPY_MODEL_63709f8279004a218dd28e21768e6413",
            "value": 116
          }
        },
        "774f1715e8824542866a3e4547b7975e": {
          "model_module": "@jupyter-widgets/base",
          "model_module_version": "1.2.0",
          "model_name": "LayoutModel",
          "state": {
            "_model_module": "@jupyter-widgets/base",
            "_model_module_version": "1.2.0",
            "_model_name": "LayoutModel",
            "_view_count": null,
            "_view_module": "@jupyter-widgets/base",
            "_view_module_version": "1.2.0",
            "_view_name": "LayoutView",
            "align_content": null,
            "align_items": null,
            "align_self": null,
            "border": null,
            "bottom": null,
            "display": null,
            "flex": null,
            "flex_flow": null,
            "grid_area": null,
            "grid_auto_columns": null,
            "grid_auto_flow": null,
            "grid_auto_rows": null,
            "grid_column": null,
            "grid_gap": null,
            "grid_row": null,
            "grid_template_areas": null,
            "grid_template_columns": null,
            "grid_template_rows": null,
            "height": null,
            "justify_content": null,
            "justify_items": null,
            "left": null,
            "margin": null,
            "max_height": null,
            "max_width": null,
            "min_height": null,
            "min_width": null,
            "object_fit": null,
            "object_position": null,
            "order": null,
            "overflow": null,
            "overflow_x": null,
            "overflow_y": null,
            "padding": null,
            "right": null,
            "top": null,
            "visibility": null,
            "width": null
          }
        },
        "77c47d6edaa04494bd418244a9db5d52": {
          "model_module": "@jupyter-widgets/controls",
          "model_module_version": "1.5.0",
          "model_name": "HBoxModel",
          "state": {
            "_dom_classes": [],
            "_model_module": "@jupyter-widgets/controls",
            "_model_module_version": "1.5.0",
            "_model_name": "HBoxModel",
            "_view_count": null,
            "_view_module": "@jupyter-widgets/controls",
            "_view_module_version": "1.5.0",
            "_view_name": "HBoxView",
            "box_style": "",
            "children": [
              "IPY_MODEL_602b317680ba4756ad27f41d32414ddc",
              "IPY_MODEL_20e5bdb7a2cd41c0983edcb3b98b6395",
              "IPY_MODEL_f7dd0f8e521a4f839018c83a908bb56f"
            ],
            "layout": "IPY_MODEL_ce82e2efa1344b94998213b5eb47ee7e"
          }
        },
        "7c1acbd2d09244d2a8d91688b119d956": {
          "model_module": "@jupyter-widgets/controls",
          "model_module_version": "1.5.0",
          "model_name": "DescriptionStyleModel",
          "state": {
            "_model_module": "@jupyter-widgets/controls",
            "_model_module_version": "1.5.0",
            "_model_name": "DescriptionStyleModel",
            "_view_count": null,
            "_view_module": "@jupyter-widgets/base",
            "_view_module_version": "1.2.0",
            "_view_name": "StyleView",
            "description_width": ""
          }
        },
        "8099c6232944429baa5ba55aee10b0a4": {
          "model_module": "@jupyter-widgets/controls",
          "model_module_version": "1.5.0",
          "model_name": "HTMLModel",
          "state": {
            "_dom_classes": [],
            "_model_module": "@jupyter-widgets/controls",
            "_model_module_version": "1.5.0",
            "_model_name": "HTMLModel",
            "_view_count": null,
            "_view_module": "@jupyter-widgets/controls",
            "_view_module_version": "1.5.0",
            "_view_name": "HTMLView",
            "description": "",
            "description_tooltip": null,
            "layout": "IPY_MODEL_dc9862d595c14af9a6cb9eb9ba59ef90",
            "placeholder": "​",
            "style": "IPY_MODEL_6d0d32e2a2d3461a8bf739597f2ffca7",
            "value": " 112/112 [00:00&lt;00:00, 5.26kB/s]"
          }
        },
        "817485d53d9d4e2fbe10271912b28caa": {
          "model_module": "@jupyter-widgets/base",
          "model_module_version": "1.2.0",
          "model_name": "LayoutModel",
          "state": {
            "_model_module": "@jupyter-widgets/base",
            "_model_module_version": "1.2.0",
            "_model_name": "LayoutModel",
            "_view_count": null,
            "_view_module": "@jupyter-widgets/base",
            "_view_module_version": "1.2.0",
            "_view_name": "LayoutView",
            "align_content": null,
            "align_items": null,
            "align_self": null,
            "border": null,
            "bottom": null,
            "display": null,
            "flex": null,
            "flex_flow": null,
            "grid_area": null,
            "grid_auto_columns": null,
            "grid_auto_flow": null,
            "grid_auto_rows": null,
            "grid_column": null,
            "grid_gap": null,
            "grid_row": null,
            "grid_template_areas": null,
            "grid_template_columns": null,
            "grid_template_rows": null,
            "height": null,
            "justify_content": null,
            "justify_items": null,
            "left": null,
            "margin": null,
            "max_height": null,
            "max_width": null,
            "min_height": null,
            "min_width": null,
            "object_fit": null,
            "object_position": null,
            "order": null,
            "overflow": null,
            "overflow_x": null,
            "overflow_y": null,
            "padding": null,
            "right": null,
            "top": null,
            "visibility": null,
            "width": null
          }
        },
        "8544fa65c0b74decbf1e16676f350c30": {
          "model_module": "@jupyter-widgets/base",
          "model_module_version": "1.2.0",
          "model_name": "LayoutModel",
          "state": {
            "_model_module": "@jupyter-widgets/base",
            "_model_module_version": "1.2.0",
            "_model_name": "LayoutModel",
            "_view_count": null,
            "_view_module": "@jupyter-widgets/base",
            "_view_module_version": "1.2.0",
            "_view_name": "LayoutView",
            "align_content": null,
            "align_items": null,
            "align_self": null,
            "border": null,
            "bottom": null,
            "display": null,
            "flex": null,
            "flex_flow": null,
            "grid_area": null,
            "grid_auto_columns": null,
            "grid_auto_flow": null,
            "grid_auto_rows": null,
            "grid_column": null,
            "grid_gap": null,
            "grid_row": null,
            "grid_template_areas": null,
            "grid_template_columns": null,
            "grid_template_rows": null,
            "height": null,
            "justify_content": null,
            "justify_items": null,
            "left": null,
            "margin": null,
            "max_height": null,
            "max_width": null,
            "min_height": null,
            "min_width": null,
            "object_fit": null,
            "object_position": null,
            "order": null,
            "overflow": null,
            "overflow_x": null,
            "overflow_y": null,
            "padding": null,
            "right": null,
            "top": null,
            "visibility": null,
            "width": null
          }
        },
        "8e704233674648c591dc7391f98ffda5": {
          "model_module": "@jupyter-widgets/base",
          "model_module_version": "1.2.0",
          "model_name": "LayoutModel",
          "state": {
            "_model_module": "@jupyter-widgets/base",
            "_model_module_version": "1.2.0",
            "_model_name": "LayoutModel",
            "_view_count": null,
            "_view_module": "@jupyter-widgets/base",
            "_view_module_version": "1.2.0",
            "_view_name": "LayoutView",
            "align_content": null,
            "align_items": null,
            "align_self": null,
            "border": null,
            "bottom": null,
            "display": null,
            "flex": null,
            "flex_flow": null,
            "grid_area": null,
            "grid_auto_columns": null,
            "grid_auto_flow": null,
            "grid_auto_rows": null,
            "grid_column": null,
            "grid_gap": null,
            "grid_row": null,
            "grid_template_areas": null,
            "grid_template_columns": null,
            "grid_template_rows": null,
            "height": null,
            "justify_content": null,
            "justify_items": null,
            "left": null,
            "margin": null,
            "max_height": null,
            "max_width": null,
            "min_height": null,
            "min_width": null,
            "object_fit": null,
            "object_position": null,
            "order": null,
            "overflow": null,
            "overflow_x": null,
            "overflow_y": null,
            "padding": null,
            "right": null,
            "top": null,
            "visibility": null,
            "width": null
          }
        },
        "91f64347760647f38bc472ccbbc2d1ca": {
          "model_module": "@jupyter-widgets/controls",
          "model_module_version": "1.5.0",
          "model_name": "ProgressStyleModel",
          "state": {
            "_model_module": "@jupyter-widgets/controls",
            "_model_module_version": "1.5.0",
            "_model_name": "ProgressStyleModel",
            "_view_count": null,
            "_view_module": "@jupyter-widgets/base",
            "_view_module_version": "1.2.0",
            "_view_name": "StyleView",
            "bar_color": null,
            "description_width": ""
          }
        },
        "9a1b0947dcef49888ff654773cb58a72": {
          "model_module": "@jupyter-widgets/controls",
          "model_module_version": "1.5.0",
          "model_name": "DescriptionStyleModel",
          "state": {
            "_model_module": "@jupyter-widgets/controls",
            "_model_module_version": "1.5.0",
            "_model_name": "DescriptionStyleModel",
            "_view_count": null,
            "_view_module": "@jupyter-widgets/base",
            "_view_module_version": "1.2.0",
            "_view_name": "StyleView",
            "description_width": ""
          }
        },
        "9cc77647183f4cc0ae70a8744f31fc87": {
          "model_module": "@jupyter-widgets/controls",
          "model_module_version": "1.5.0",
          "model_name": "DescriptionStyleModel",
          "state": {
            "_model_module": "@jupyter-widgets/controls",
            "_model_module_version": "1.5.0",
            "_model_name": "DescriptionStyleModel",
            "_view_count": null,
            "_view_module": "@jupyter-widgets/base",
            "_view_module_version": "1.2.0",
            "_view_name": "StyleView",
            "description_width": ""
          }
        },
        "a0b735f7e6804ca28871c09ad8749794": {
          "model_module": "@jupyter-widgets/base",
          "model_module_version": "1.2.0",
          "model_name": "LayoutModel",
          "state": {
            "_model_module": "@jupyter-widgets/base",
            "_model_module_version": "1.2.0",
            "_model_name": "LayoutModel",
            "_view_count": null,
            "_view_module": "@jupyter-widgets/base",
            "_view_module_version": "1.2.0",
            "_view_name": "LayoutView",
            "align_content": null,
            "align_items": null,
            "align_self": null,
            "border": null,
            "bottom": null,
            "display": null,
            "flex": null,
            "flex_flow": null,
            "grid_area": null,
            "grid_auto_columns": null,
            "grid_auto_flow": null,
            "grid_auto_rows": null,
            "grid_column": null,
            "grid_gap": null,
            "grid_row": null,
            "grid_template_areas": null,
            "grid_template_columns": null,
            "grid_template_rows": null,
            "height": null,
            "justify_content": null,
            "justify_items": null,
            "left": null,
            "margin": null,
            "max_height": null,
            "max_width": null,
            "min_height": null,
            "min_width": null,
            "object_fit": null,
            "object_position": null,
            "order": null,
            "overflow": null,
            "overflow_x": null,
            "overflow_y": null,
            "padding": null,
            "right": null,
            "top": null,
            "visibility": null,
            "width": null
          }
        },
        "a303d194e3b442b2a9ff01628f5434ab": {
          "model_module": "@jupyter-widgets/base",
          "model_module_version": "1.2.0",
          "model_name": "LayoutModel",
          "state": {
            "_model_module": "@jupyter-widgets/base",
            "_model_module_version": "1.2.0",
            "_model_name": "LayoutModel",
            "_view_count": null,
            "_view_module": "@jupyter-widgets/base",
            "_view_module_version": "1.2.0",
            "_view_name": "LayoutView",
            "align_content": null,
            "align_items": null,
            "align_self": null,
            "border": null,
            "bottom": null,
            "display": null,
            "flex": null,
            "flex_flow": null,
            "grid_area": null,
            "grid_auto_columns": null,
            "grid_auto_flow": null,
            "grid_auto_rows": null,
            "grid_column": null,
            "grid_gap": null,
            "grid_row": null,
            "grid_template_areas": null,
            "grid_template_columns": null,
            "grid_template_rows": null,
            "height": null,
            "justify_content": null,
            "justify_items": null,
            "left": null,
            "margin": null,
            "max_height": null,
            "max_width": null,
            "min_height": null,
            "min_width": null,
            "object_fit": null,
            "object_position": null,
            "order": null,
            "overflow": null,
            "overflow_x": null,
            "overflow_y": null,
            "padding": null,
            "right": null,
            "top": null,
            "visibility": null,
            "width": null
          }
        },
        "a5bba448b52c4a7d98c7ba6a26765fa7": {
          "model_module": "@jupyter-widgets/base",
          "model_module_version": "1.2.0",
          "model_name": "LayoutModel",
          "state": {
            "_model_module": "@jupyter-widgets/base",
            "_model_module_version": "1.2.0",
            "_model_name": "LayoutModel",
            "_view_count": null,
            "_view_module": "@jupyter-widgets/base",
            "_view_module_version": "1.2.0",
            "_view_name": "LayoutView",
            "align_content": null,
            "align_items": null,
            "align_self": null,
            "border": null,
            "bottom": null,
            "display": null,
            "flex": null,
            "flex_flow": null,
            "grid_area": null,
            "grid_auto_columns": null,
            "grid_auto_flow": null,
            "grid_auto_rows": null,
            "grid_column": null,
            "grid_gap": null,
            "grid_row": null,
            "grid_template_areas": null,
            "grid_template_columns": null,
            "grid_template_rows": null,
            "height": null,
            "justify_content": null,
            "justify_items": null,
            "left": null,
            "margin": null,
            "max_height": null,
            "max_width": null,
            "min_height": null,
            "min_width": null,
            "object_fit": null,
            "object_position": null,
            "order": null,
            "overflow": null,
            "overflow_x": null,
            "overflow_y": null,
            "padding": null,
            "right": null,
            "top": null,
            "visibility": null,
            "width": null
          }
        },
        "a6c82dda68cc4b53a2eec936669b16cd": {
          "model_module": "@jupyter-widgets/controls",
          "model_module_version": "1.5.0",
          "model_name": "HTMLModel",
          "state": {
            "_dom_classes": [],
            "_model_module": "@jupyter-widgets/controls",
            "_model_module_version": "1.5.0",
            "_model_name": "HTMLModel",
            "_view_count": null,
            "_view_module": "@jupyter-widgets/controls",
            "_view_module_version": "1.5.0",
            "_view_name": "HTMLView",
            "description": "",
            "description_tooltip": null,
            "layout": "IPY_MODEL_d5807508cffc4e11976e85c849bbd64e",
            "placeholder": "​",
            "style": "IPY_MODEL_df686303033d4767a8741b587e4ba0e5",
            "value": "tokenizer_config.json: 100%"
          }
        },
        "a893fb0bdec04a7c966f8d9a7a981f3c": {
          "model_module": "@jupyter-widgets/controls",
          "model_module_version": "1.5.0",
          "model_name": "HTMLModel",
          "state": {
            "_dom_classes": [],
            "_model_module": "@jupyter-widgets/controls",
            "_model_module_version": "1.5.0",
            "_model_name": "HTMLModel",
            "_view_count": null,
            "_view_module": "@jupyter-widgets/controls",
            "_view_module_version": "1.5.0",
            "_view_name": "HTMLView",
            "description": "",
            "description_tooltip": null,
            "layout": "IPY_MODEL_817485d53d9d4e2fbe10271912b28caa",
            "placeholder": "​",
            "style": "IPY_MODEL_e8cfbc289a45416f94f1235948a03f7c",
            "value": "config.json: 100%"
          }
        },
        "aa9f2c8b0bca4be5b78c74538980ba7f": {
          "model_module": "@jupyter-widgets/controls",
          "model_module_version": "1.5.0",
          "model_name": "FloatProgressModel",
          "state": {
            "_dom_classes": [],
            "_model_module": "@jupyter-widgets/controls",
            "_model_module_version": "1.5.0",
            "_model_name": "FloatProgressModel",
            "_view_count": null,
            "_view_module": "@jupyter-widgets/controls",
            "_view_module_version": "1.5.0",
            "_view_name": "ProgressView",
            "bar_style": "success",
            "description": "",
            "description_tooltip": null,
            "layout": "IPY_MODEL_2eb155b68aaa458f99abbad97a4f4ec8",
            "max": 612,
            "min": 0,
            "orientation": "horizontal",
            "style": "IPY_MODEL_54e5617cebba42858f2f14d898422891",
            "value": 612
          }
        },
        "ab061fea5fc34038ae9a26c6ff981e35": {
          "model_module": "@jupyter-widgets/controls",
          "model_module_version": "1.5.0",
          "model_name": "HTMLModel",
          "state": {
            "_dom_classes": [],
            "_model_module": "@jupyter-widgets/controls",
            "_model_module_version": "1.5.0",
            "_model_name": "HTMLModel",
            "_view_count": null,
            "_view_module": "@jupyter-widgets/controls",
            "_view_module_version": "1.5.0",
            "_view_name": "HTMLView",
            "description": "",
            "description_tooltip": null,
            "layout": "IPY_MODEL_6b8955ed115e43bd8145432eb8e4ccb5",
            "placeholder": "​",
            "style": "IPY_MODEL_3e38f154497d455d90e76dd44c02ad0e",
            "value": " 612/612 [00:00&lt;00:00, 21.2kB/s]"
          }
        },
        "ab70e5638c8044c9989cc251cfee8c64": {
          "model_module": "@jupyter-widgets/controls",
          "model_module_version": "1.5.0",
          "model_name": "DescriptionStyleModel",
          "state": {
            "_model_module": "@jupyter-widgets/controls",
            "_model_module_version": "1.5.0",
            "_model_name": "DescriptionStyleModel",
            "_view_count": null,
            "_view_module": "@jupyter-widgets/base",
            "_view_module_version": "1.2.0",
            "_view_name": "StyleView",
            "description_width": ""
          }
        },
        "abfeb4fba56a4ca88b8daf77bee5e711": {
          "model_module": "@jupyter-widgets/controls",
          "model_module_version": "1.5.0",
          "model_name": "HTMLModel",
          "state": {
            "_dom_classes": [],
            "_model_module": "@jupyter-widgets/controls",
            "_model_module_version": "1.5.0",
            "_model_name": "HTMLModel",
            "_view_count": null,
            "_view_module": "@jupyter-widgets/controls",
            "_view_module_version": "1.5.0",
            "_view_name": "HTMLView",
            "description": "",
            "description_tooltip": null,
            "layout": "IPY_MODEL_d1b3f082d26845629b58794d4e5599a5",
            "placeholder": "​",
            "style": "IPY_MODEL_07bd36e0047d438ca54459c77247aa5f",
            "value": " 190/190 [00:00&lt;00:00, 7.87kB/s]"
          }
        },
        "ae9e7fb5aefe41a7b40d67b20c57ac66": {
          "model_module": "@jupyter-widgets/controls",
          "model_module_version": "1.5.0",
          "model_name": "HBoxModel",
          "state": {
            "_dom_classes": [],
            "_model_module": "@jupyter-widgets/controls",
            "_model_module_version": "1.5.0",
            "_model_name": "HBoxModel",
            "_view_count": null,
            "_view_module": "@jupyter-widgets/controls",
            "_view_module_version": "1.5.0",
            "_view_name": "HBoxView",
            "box_style": "",
            "children": [
              "IPY_MODEL_b08918a603c04e9ab5634c3170e03c6f",
              "IPY_MODEL_bb413d0610ff47e39e8b23cc6577aef0",
              "IPY_MODEL_00e65a5c47974e6881a6e07381a11aca"
            ],
            "layout": "IPY_MODEL_f564b505d1504ece9ee08fe7f034d1e2"
          }
        },
        "b08918a603c04e9ab5634c3170e03c6f": {
          "model_module": "@jupyter-widgets/controls",
          "model_module_version": "1.5.0",
          "model_name": "HTMLModel",
          "state": {
            "_dom_classes": [],
            "_model_module": "@jupyter-widgets/controls",
            "_model_module_version": "1.5.0",
            "_model_name": "HTMLModel",
            "_view_count": null,
            "_view_module": "@jupyter-widgets/controls",
            "_view_module_version": "1.5.0",
            "_view_name": "HTMLView",
            "description": "",
            "description_tooltip": null,
            "layout": "IPY_MODEL_efe1ea053d8e49e6855bd0737f5dd81a",
            "placeholder": "​",
            "style": "IPY_MODEL_bdba6457b688488e91bc0d3f73547bba",
            "value": "sentence_bert_config.json: 100%"
          }
        },
        "b0cbdc283943419b98455259c88aba45": {
          "model_module": "@jupyter-widgets/controls",
          "model_module_version": "1.5.0",
          "model_name": "HTMLModel",
          "state": {
            "_dom_classes": [],
            "_model_module": "@jupyter-widgets/controls",
            "_model_module_version": "1.5.0",
            "_model_name": "HTMLModel",
            "_view_count": null,
            "_view_module": "@jupyter-widgets/controls",
            "_view_module_version": "1.5.0",
            "_view_name": "HTMLView",
            "description": "",
            "description_tooltip": null,
            "layout": "IPY_MODEL_39b594e63271421bb05f3ed197b360e2",
            "placeholder": "​",
            "style": "IPY_MODEL_d37a2498804e41ab97bcd3e04bdc8367",
            "value": " 10.7k/10.7k [00:00&lt;00:00, 363kB/s]"
          }
        },
        "b4e1bd70666b4b90bd0425cb00e95be8": {
          "model_module": "@jupyter-widgets/controls",
          "model_module_version": "1.5.0",
          "model_name": "HTMLModel",
          "state": {
            "_dom_classes": [],
            "_model_module": "@jupyter-widgets/controls",
            "_model_module_version": "1.5.0",
            "_model_name": "HTMLModel",
            "_view_count": null,
            "_view_module": "@jupyter-widgets/controls",
            "_view_module_version": "1.5.0",
            "_view_name": "HTMLView",
            "description": "",
            "description_tooltip": null,
            "layout": "IPY_MODEL_8e704233674648c591dc7391f98ffda5",
            "placeholder": "​",
            "style": "IPY_MODEL_3def57bf2a93485790a5bebbffe552ed",
            "value": " 232k/232k [00:00&lt;00:00, 3.38MB/s]"
          }
        },
        "bb413d0610ff47e39e8b23cc6577aef0": {
          "model_module": "@jupyter-widgets/controls",
          "model_module_version": "1.5.0",
          "model_name": "FloatProgressModel",
          "state": {
            "_dom_classes": [],
            "_model_module": "@jupyter-widgets/controls",
            "_model_module_version": "1.5.0",
            "_model_name": "FloatProgressModel",
            "_view_count": null,
            "_view_module": "@jupyter-widgets/controls",
            "_view_module_version": "1.5.0",
            "_view_name": "ProgressView",
            "bar_style": "success",
            "description": "",
            "description_tooltip": null,
            "layout": "IPY_MODEL_c01fa3411b804069b94b830a01249b4e",
            "max": 53,
            "min": 0,
            "orientation": "horizontal",
            "style": "IPY_MODEL_144187cae8aa4a24a8c7408fae80216c",
            "value": 53
          }
        },
        "bd2b36f31d534b818eea8eb0fec774fe": {
          "model_module": "@jupyter-widgets/controls",
          "model_module_version": "1.5.0",
          "model_name": "HBoxModel",
          "state": {
            "_dom_classes": [],
            "_model_module": "@jupyter-widgets/controls",
            "_model_module_version": "1.5.0",
            "_model_name": "HBoxModel",
            "_view_count": null,
            "_view_module": "@jupyter-widgets/controls",
            "_view_module_version": "1.5.0",
            "_view_name": "HBoxView",
            "box_style": "",
            "children": [
              "IPY_MODEL_a6c82dda68cc4b53a2eec936669b16cd",
              "IPY_MODEL_e789455e24f04f428e824d1ab9a45e5d",
              "IPY_MODEL_301e8a03cea74e3493db92a886f5d792"
            ],
            "layout": "IPY_MODEL_cab37bcdb2194a91b1bf3821ce8d010d"
          }
        },
        "bdba6457b688488e91bc0d3f73547bba": {
          "model_module": "@jupyter-widgets/controls",
          "model_module_version": "1.5.0",
          "model_name": "DescriptionStyleModel",
          "state": {
            "_model_module": "@jupyter-widgets/controls",
            "_model_module_version": "1.5.0",
            "_model_name": "DescriptionStyleModel",
            "_view_count": null,
            "_view_module": "@jupyter-widgets/base",
            "_view_module_version": "1.2.0",
            "_view_name": "StyleView",
            "description_width": ""
          }
        },
        "bff056c166e845a5aa4b0ea28fa7bb42": {
          "model_module": "@jupyter-widgets/base",
          "model_module_version": "1.2.0",
          "model_name": "LayoutModel",
          "state": {
            "_model_module": "@jupyter-widgets/base",
            "_model_module_version": "1.2.0",
            "_model_name": "LayoutModel",
            "_view_count": null,
            "_view_module": "@jupyter-widgets/base",
            "_view_module_version": "1.2.0",
            "_view_name": "LayoutView",
            "align_content": null,
            "align_items": null,
            "align_self": null,
            "border": null,
            "bottom": null,
            "display": null,
            "flex": null,
            "flex_flow": null,
            "grid_area": null,
            "grid_auto_columns": null,
            "grid_auto_flow": null,
            "grid_auto_rows": null,
            "grid_column": null,
            "grid_gap": null,
            "grid_row": null,
            "grid_template_areas": null,
            "grid_template_columns": null,
            "grid_template_rows": null,
            "height": null,
            "justify_content": null,
            "justify_items": null,
            "left": null,
            "margin": null,
            "max_height": null,
            "max_width": null,
            "min_height": null,
            "min_width": null,
            "object_fit": null,
            "object_position": null,
            "order": null,
            "overflow": null,
            "overflow_x": null,
            "overflow_y": null,
            "padding": null,
            "right": null,
            "top": null,
            "visibility": null,
            "width": null
          }
        },
        "c01fa3411b804069b94b830a01249b4e": {
          "model_module": "@jupyter-widgets/base",
          "model_module_version": "1.2.0",
          "model_name": "LayoutModel",
          "state": {
            "_model_module": "@jupyter-widgets/base",
            "_model_module_version": "1.2.0",
            "_model_name": "LayoutModel",
            "_view_count": null,
            "_view_module": "@jupyter-widgets/base",
            "_view_module_version": "1.2.0",
            "_view_name": "LayoutView",
            "align_content": null,
            "align_items": null,
            "align_self": null,
            "border": null,
            "bottom": null,
            "display": null,
            "flex": null,
            "flex_flow": null,
            "grid_area": null,
            "grid_auto_columns": null,
            "grid_auto_flow": null,
            "grid_auto_rows": null,
            "grid_column": null,
            "grid_gap": null,
            "grid_row": null,
            "grid_template_areas": null,
            "grid_template_columns": null,
            "grid_template_rows": null,
            "height": null,
            "justify_content": null,
            "justify_items": null,
            "left": null,
            "margin": null,
            "max_height": null,
            "max_width": null,
            "min_height": null,
            "min_width": null,
            "object_fit": null,
            "object_position": null,
            "order": null,
            "overflow": null,
            "overflow_x": null,
            "overflow_y": null,
            "padding": null,
            "right": null,
            "top": null,
            "visibility": null,
            "width": null
          }
        },
        "c029d7e9a71a4f0a978e61ba6d9620e6": {
          "model_module": "@jupyter-widgets/base",
          "model_module_version": "1.2.0",
          "model_name": "LayoutModel",
          "state": {
            "_model_module": "@jupyter-widgets/base",
            "_model_module_version": "1.2.0",
            "_model_name": "LayoutModel",
            "_view_count": null,
            "_view_module": "@jupyter-widgets/base",
            "_view_module_version": "1.2.0",
            "_view_name": "LayoutView",
            "align_content": null,
            "align_items": null,
            "align_self": null,
            "border": null,
            "bottom": null,
            "display": null,
            "flex": null,
            "flex_flow": null,
            "grid_area": null,
            "grid_auto_columns": null,
            "grid_auto_flow": null,
            "grid_auto_rows": null,
            "grid_column": null,
            "grid_gap": null,
            "grid_row": null,
            "grid_template_areas": null,
            "grid_template_columns": null,
            "grid_template_rows": null,
            "height": null,
            "justify_content": null,
            "justify_items": null,
            "left": null,
            "margin": null,
            "max_height": null,
            "max_width": null,
            "min_height": null,
            "min_width": null,
            "object_fit": null,
            "object_position": null,
            "order": null,
            "overflow": null,
            "overflow_x": null,
            "overflow_y": null,
            "padding": null,
            "right": null,
            "top": null,
            "visibility": null,
            "width": null
          }
        },
        "c0f0d198f50a4fcbbf16b5a37efc6537": {
          "model_module": "@jupyter-widgets/controls",
          "model_module_version": "1.5.0",
          "model_name": "DescriptionStyleModel",
          "state": {
            "_model_module": "@jupyter-widgets/controls",
            "_model_module_version": "1.5.0",
            "_model_name": "DescriptionStyleModel",
            "_view_count": null,
            "_view_module": "@jupyter-widgets/base",
            "_view_module_version": "1.2.0",
            "_view_name": "StyleView",
            "description_width": ""
          }
        },
        "c4c4f32d6feb48aea75dbc65f562bd59": {
          "model_module": "@jupyter-widgets/base",
          "model_module_version": "1.2.0",
          "model_name": "LayoutModel",
          "state": {
            "_model_module": "@jupyter-widgets/base",
            "_model_module_version": "1.2.0",
            "_model_name": "LayoutModel",
            "_view_count": null,
            "_view_module": "@jupyter-widgets/base",
            "_view_module_version": "1.2.0",
            "_view_name": "LayoutView",
            "align_content": null,
            "align_items": null,
            "align_self": null,
            "border": null,
            "bottom": null,
            "display": null,
            "flex": null,
            "flex_flow": null,
            "grid_area": null,
            "grid_auto_columns": null,
            "grid_auto_flow": null,
            "grid_auto_rows": null,
            "grid_column": null,
            "grid_gap": null,
            "grid_row": null,
            "grid_template_areas": null,
            "grid_template_columns": null,
            "grid_template_rows": null,
            "height": null,
            "justify_content": null,
            "justify_items": null,
            "left": null,
            "margin": null,
            "max_height": null,
            "max_width": null,
            "min_height": null,
            "min_width": null,
            "object_fit": null,
            "object_position": null,
            "order": null,
            "overflow": null,
            "overflow_x": null,
            "overflow_y": null,
            "padding": null,
            "right": null,
            "top": null,
            "visibility": null,
            "width": null
          }
        },
        "c5aaf61984c54c69a6ae6bbc40b84a26": {
          "model_module": "@jupyter-widgets/base",
          "model_module_version": "1.2.0",
          "model_name": "LayoutModel",
          "state": {
            "_model_module": "@jupyter-widgets/base",
            "_model_module_version": "1.2.0",
            "_model_name": "LayoutModel",
            "_view_count": null,
            "_view_module": "@jupyter-widgets/base",
            "_view_module_version": "1.2.0",
            "_view_name": "LayoutView",
            "align_content": null,
            "align_items": null,
            "align_self": null,
            "border": null,
            "bottom": null,
            "display": null,
            "flex": null,
            "flex_flow": null,
            "grid_area": null,
            "grid_auto_columns": null,
            "grid_auto_flow": null,
            "grid_auto_rows": null,
            "grid_column": null,
            "grid_gap": null,
            "grid_row": null,
            "grid_template_areas": null,
            "grid_template_columns": null,
            "grid_template_rows": null,
            "height": null,
            "justify_content": null,
            "justify_items": null,
            "left": null,
            "margin": null,
            "max_height": null,
            "max_width": null,
            "min_height": null,
            "min_width": null,
            "object_fit": null,
            "object_position": null,
            "order": null,
            "overflow": null,
            "overflow_x": null,
            "overflow_y": null,
            "padding": null,
            "right": null,
            "top": null,
            "visibility": null,
            "width": null
          }
        },
        "c6b278d5f6ad478191f710c75907c3e0": {
          "model_module": "@jupyter-widgets/base",
          "model_module_version": "1.2.0",
          "model_name": "LayoutModel",
          "state": {
            "_model_module": "@jupyter-widgets/base",
            "_model_module_version": "1.2.0",
            "_model_name": "LayoutModel",
            "_view_count": null,
            "_view_module": "@jupyter-widgets/base",
            "_view_module_version": "1.2.0",
            "_view_name": "LayoutView",
            "align_content": null,
            "align_items": null,
            "align_self": null,
            "border": null,
            "bottom": null,
            "display": null,
            "flex": null,
            "flex_flow": null,
            "grid_area": null,
            "grid_auto_columns": null,
            "grid_auto_flow": null,
            "grid_auto_rows": null,
            "grid_column": null,
            "grid_gap": null,
            "grid_row": null,
            "grid_template_areas": null,
            "grid_template_columns": null,
            "grid_template_rows": null,
            "height": null,
            "justify_content": null,
            "justify_items": null,
            "left": null,
            "margin": null,
            "max_height": null,
            "max_width": null,
            "min_height": null,
            "min_width": null,
            "object_fit": null,
            "object_position": null,
            "order": null,
            "overflow": null,
            "overflow_x": null,
            "overflow_y": null,
            "padding": null,
            "right": null,
            "top": null,
            "visibility": null,
            "width": null
          }
        },
        "c744ca8fc60945be8f965819b78b047a": {
          "model_module": "@jupyter-widgets/controls",
          "model_module_version": "1.5.0",
          "model_name": "FloatProgressModel",
          "state": {
            "_dom_classes": [],
            "_model_module": "@jupyter-widgets/controls",
            "_model_module_version": "1.5.0",
            "_model_name": "FloatProgressModel",
            "_view_count": null,
            "_view_module": "@jupyter-widgets/controls",
            "_view_module_version": "1.5.0",
            "_view_name": "ProgressView",
            "bar_style": "success",
            "description": "",
            "description_tooltip": null,
            "layout": "IPY_MODEL_5e473e3da9a44cc3b13744b04c6ac15b",
            "max": 349,
            "min": 0,
            "orientation": "horizontal",
            "style": "IPY_MODEL_91f64347760647f38bc472ccbbc2d1ca",
            "value": 349
          }
        },
        "cab37bcdb2194a91b1bf3821ce8d010d": {
          "model_module": "@jupyter-widgets/base",
          "model_module_version": "1.2.0",
          "model_name": "LayoutModel",
          "state": {
            "_model_module": "@jupyter-widgets/base",
            "_model_module_version": "1.2.0",
            "_model_name": "LayoutModel",
            "_view_count": null,
            "_view_module": "@jupyter-widgets/base",
            "_view_module_version": "1.2.0",
            "_view_name": "LayoutView",
            "align_content": null,
            "align_items": null,
            "align_self": null,
            "border": null,
            "bottom": null,
            "display": null,
            "flex": null,
            "flex_flow": null,
            "grid_area": null,
            "grid_auto_columns": null,
            "grid_auto_flow": null,
            "grid_auto_rows": null,
            "grid_column": null,
            "grid_gap": null,
            "grid_row": null,
            "grid_template_areas": null,
            "grid_template_columns": null,
            "grid_template_rows": null,
            "height": null,
            "justify_content": null,
            "justify_items": null,
            "left": null,
            "margin": null,
            "max_height": null,
            "max_width": null,
            "min_height": null,
            "min_width": null,
            "object_fit": null,
            "object_position": null,
            "order": null,
            "overflow": null,
            "overflow_x": null,
            "overflow_y": null,
            "padding": null,
            "right": null,
            "top": null,
            "visibility": null,
            "width": null
          }
        },
        "ccb73bd1897e4e2da88a32663687dd07": {
          "model_module": "@jupyter-widgets/controls",
          "model_module_version": "1.5.0",
          "model_name": "HTMLModel",
          "state": {
            "_dom_classes": [],
            "_model_module": "@jupyter-widgets/controls",
            "_model_module_version": "1.5.0",
            "_model_name": "HTMLModel",
            "_view_count": null,
            "_view_module": "@jupyter-widgets/controls",
            "_view_module_version": "1.5.0",
            "_view_name": "HTMLView",
            "description": "",
            "description_tooltip": null,
            "layout": "IPY_MODEL_c6b278d5f6ad478191f710c75907c3e0",
            "placeholder": "​",
            "style": "IPY_MODEL_dfb4fd788ad1484b8b66610bfdd94308",
            "value": "config_sentence_transformers.json: 100%"
          }
        },
        "ce82e2efa1344b94998213b5eb47ee7e": {
          "model_module": "@jupyter-widgets/base",
          "model_module_version": "1.2.0",
          "model_name": "LayoutModel",
          "state": {
            "_model_module": "@jupyter-widgets/base",
            "_model_module_version": "1.2.0",
            "_model_name": "LayoutModel",
            "_view_count": null,
            "_view_module": "@jupyter-widgets/base",
            "_view_module_version": "1.2.0",
            "_view_name": "LayoutView",
            "align_content": null,
            "align_items": null,
            "align_self": null,
            "border": null,
            "bottom": null,
            "display": null,
            "flex": null,
            "flex_flow": null,
            "grid_area": null,
            "grid_auto_columns": null,
            "grid_auto_flow": null,
            "grid_auto_rows": null,
            "grid_column": null,
            "grid_gap": null,
            "grid_row": null,
            "grid_template_areas": null,
            "grid_template_columns": null,
            "grid_template_rows": null,
            "height": null,
            "justify_content": null,
            "justify_items": null,
            "left": null,
            "margin": null,
            "max_height": null,
            "max_width": null,
            "min_height": null,
            "min_width": null,
            "object_fit": null,
            "object_position": null,
            "order": null,
            "overflow": null,
            "overflow_x": null,
            "overflow_y": null,
            "padding": null,
            "right": null,
            "top": null,
            "visibility": null,
            "width": null
          }
        },
        "ce9c8a8906a34f80ae1f71c160e5bb99": {
          "model_module": "@jupyter-widgets/controls",
          "model_module_version": "1.5.0",
          "model_name": "FloatProgressModel",
          "state": {
            "_dom_classes": [],
            "_model_module": "@jupyter-widgets/controls",
            "_model_module_version": "1.5.0",
            "_model_name": "FloatProgressModel",
            "_view_count": null,
            "_view_module": "@jupyter-widgets/controls",
            "_view_module_version": "1.5.0",
            "_view_name": "ProgressView",
            "bar_style": "success",
            "description": "",
            "description_tooltip": null,
            "layout": "IPY_MODEL_53861c7be59c47ad81ea712d8e42f314",
            "max": 190,
            "min": 0,
            "orientation": "horizontal",
            "style": "IPY_MODEL_51d3bdd5b0a24f95a8c57126ed953cf1",
            "value": 190
          }
        },
        "d0b5949764ff47d592f8eead81b79f1d": {
          "model_module": "@jupyter-widgets/base",
          "model_module_version": "1.2.0",
          "model_name": "LayoutModel",
          "state": {
            "_model_module": "@jupyter-widgets/base",
            "_model_module_version": "1.2.0",
            "_model_name": "LayoutModel",
            "_view_count": null,
            "_view_module": "@jupyter-widgets/base",
            "_view_module_version": "1.2.0",
            "_view_name": "LayoutView",
            "align_content": null,
            "align_items": null,
            "align_self": null,
            "border": null,
            "bottom": null,
            "display": null,
            "flex": null,
            "flex_flow": null,
            "grid_area": null,
            "grid_auto_columns": null,
            "grid_auto_flow": null,
            "grid_auto_rows": null,
            "grid_column": null,
            "grid_gap": null,
            "grid_row": null,
            "grid_template_areas": null,
            "grid_template_columns": null,
            "grid_template_rows": null,
            "height": null,
            "justify_content": null,
            "justify_items": null,
            "left": null,
            "margin": null,
            "max_height": null,
            "max_width": null,
            "min_height": null,
            "min_width": null,
            "object_fit": null,
            "object_position": null,
            "order": null,
            "overflow": null,
            "overflow_x": null,
            "overflow_y": null,
            "padding": null,
            "right": null,
            "top": null,
            "visibility": null,
            "width": null
          }
        },
        "d1b3f082d26845629b58794d4e5599a5": {
          "model_module": "@jupyter-widgets/base",
          "model_module_version": "1.2.0",
          "model_name": "LayoutModel",
          "state": {
            "_model_module": "@jupyter-widgets/base",
            "_model_module_version": "1.2.0",
            "_model_name": "LayoutModel",
            "_view_count": null,
            "_view_module": "@jupyter-widgets/base",
            "_view_module_version": "1.2.0",
            "_view_name": "LayoutView",
            "align_content": null,
            "align_items": null,
            "align_self": null,
            "border": null,
            "bottom": null,
            "display": null,
            "flex": null,
            "flex_flow": null,
            "grid_area": null,
            "grid_auto_columns": null,
            "grid_auto_flow": null,
            "grid_auto_rows": null,
            "grid_column": null,
            "grid_gap": null,
            "grid_row": null,
            "grid_template_areas": null,
            "grid_template_columns": null,
            "grid_template_rows": null,
            "height": null,
            "justify_content": null,
            "justify_items": null,
            "left": null,
            "margin": null,
            "max_height": null,
            "max_width": null,
            "min_height": null,
            "min_width": null,
            "object_fit": null,
            "object_position": null,
            "order": null,
            "overflow": null,
            "overflow_x": null,
            "overflow_y": null,
            "padding": null,
            "right": null,
            "top": null,
            "visibility": null,
            "width": null
          }
        },
        "d20a0eeffb354fc8b212c83979e31c0e": {
          "model_module": "@jupyter-widgets/base",
          "model_module_version": "1.2.0",
          "model_name": "LayoutModel",
          "state": {
            "_model_module": "@jupyter-widgets/base",
            "_model_module_version": "1.2.0",
            "_model_name": "LayoutModel",
            "_view_count": null,
            "_view_module": "@jupyter-widgets/base",
            "_view_module_version": "1.2.0",
            "_view_name": "LayoutView",
            "align_content": null,
            "align_items": null,
            "align_self": null,
            "border": null,
            "bottom": null,
            "display": null,
            "flex": null,
            "flex_flow": null,
            "grid_area": null,
            "grid_auto_columns": null,
            "grid_auto_flow": null,
            "grid_auto_rows": null,
            "grid_column": null,
            "grid_gap": null,
            "grid_row": null,
            "grid_template_areas": null,
            "grid_template_columns": null,
            "grid_template_rows": null,
            "height": null,
            "justify_content": null,
            "justify_items": null,
            "left": null,
            "margin": null,
            "max_height": null,
            "max_width": null,
            "min_height": null,
            "min_width": null,
            "object_fit": null,
            "object_position": null,
            "order": null,
            "overflow": null,
            "overflow_x": null,
            "overflow_y": null,
            "padding": null,
            "right": null,
            "top": null,
            "visibility": null,
            "width": null
          }
        },
        "d37a2498804e41ab97bcd3e04bdc8367": {
          "model_module": "@jupyter-widgets/controls",
          "model_module_version": "1.5.0",
          "model_name": "DescriptionStyleModel",
          "state": {
            "_model_module": "@jupyter-widgets/controls",
            "_model_module_version": "1.5.0",
            "_model_name": "DescriptionStyleModel",
            "_view_count": null,
            "_view_module": "@jupyter-widgets/base",
            "_view_module_version": "1.2.0",
            "_view_name": "StyleView",
            "description_width": ""
          }
        },
        "d5807508cffc4e11976e85c849bbd64e": {
          "model_module": "@jupyter-widgets/base",
          "model_module_version": "1.2.0",
          "model_name": "LayoutModel",
          "state": {
            "_model_module": "@jupyter-widgets/base",
            "_model_module_version": "1.2.0",
            "_model_name": "LayoutModel",
            "_view_count": null,
            "_view_module": "@jupyter-widgets/base",
            "_view_module_version": "1.2.0",
            "_view_name": "LayoutView",
            "align_content": null,
            "align_items": null,
            "align_self": null,
            "border": null,
            "bottom": null,
            "display": null,
            "flex": null,
            "flex_flow": null,
            "grid_area": null,
            "grid_auto_columns": null,
            "grid_auto_flow": null,
            "grid_auto_rows": null,
            "grid_column": null,
            "grid_gap": null,
            "grid_row": null,
            "grid_template_areas": null,
            "grid_template_columns": null,
            "grid_template_rows": null,
            "height": null,
            "justify_content": null,
            "justify_items": null,
            "left": null,
            "margin": null,
            "max_height": null,
            "max_width": null,
            "min_height": null,
            "min_width": null,
            "object_fit": null,
            "object_position": null,
            "order": null,
            "overflow": null,
            "overflow_x": null,
            "overflow_y": null,
            "padding": null,
            "right": null,
            "top": null,
            "visibility": null,
            "width": null
          }
        },
        "da3617451ad4497f96ffec401eea7dff": {
          "model_module": "@jupyter-widgets/controls",
          "model_module_version": "1.5.0",
          "model_name": "HBoxModel",
          "state": {
            "_dom_classes": [],
            "_model_module": "@jupyter-widgets/controls",
            "_model_module_version": "1.5.0",
            "_model_name": "HBoxModel",
            "_view_count": null,
            "_view_module": "@jupyter-widgets/controls",
            "_view_module_version": "1.5.0",
            "_view_name": "HBoxView",
            "box_style": "",
            "children": [
              "IPY_MODEL_ccb73bd1897e4e2da88a32663687dd07",
              "IPY_MODEL_72cc2b2a5056420fb7c68e37b1ee5a8a",
              "IPY_MODEL_186f0f387cb44d6187c9dfb1045cb241"
            ],
            "layout": "IPY_MODEL_a5bba448b52c4a7d98c7ba6a26765fa7"
          }
        },
        "dc9862d595c14af9a6cb9eb9ba59ef90": {
          "model_module": "@jupyter-widgets/base",
          "model_module_version": "1.2.0",
          "model_name": "LayoutModel",
          "state": {
            "_model_module": "@jupyter-widgets/base",
            "_model_module_version": "1.2.0",
            "_model_name": "LayoutModel",
            "_view_count": null,
            "_view_module": "@jupyter-widgets/base",
            "_view_module_version": "1.2.0",
            "_view_name": "LayoutView",
            "align_content": null,
            "align_items": null,
            "align_self": null,
            "border": null,
            "bottom": null,
            "display": null,
            "flex": null,
            "flex_flow": null,
            "grid_area": null,
            "grid_auto_columns": null,
            "grid_auto_flow": null,
            "grid_auto_rows": null,
            "grid_column": null,
            "grid_gap": null,
            "grid_row": null,
            "grid_template_areas": null,
            "grid_template_columns": null,
            "grid_template_rows": null,
            "height": null,
            "justify_content": null,
            "justify_items": null,
            "left": null,
            "margin": null,
            "max_height": null,
            "max_width": null,
            "min_height": null,
            "min_width": null,
            "object_fit": null,
            "object_position": null,
            "order": null,
            "overflow": null,
            "overflow_x": null,
            "overflow_y": null,
            "padding": null,
            "right": null,
            "top": null,
            "visibility": null,
            "width": null
          }
        },
        "df686303033d4767a8741b587e4ba0e5": {
          "model_module": "@jupyter-widgets/controls",
          "model_module_version": "1.5.0",
          "model_name": "DescriptionStyleModel",
          "state": {
            "_model_module": "@jupyter-widgets/controls",
            "_model_module_version": "1.5.0",
            "_model_name": "DescriptionStyleModel",
            "_view_count": null,
            "_view_module": "@jupyter-widgets/base",
            "_view_module_version": "1.2.0",
            "_view_name": "StyleView",
            "description_width": ""
          }
        },
        "dfb4fd788ad1484b8b66610bfdd94308": {
          "model_module": "@jupyter-widgets/controls",
          "model_module_version": "1.5.0",
          "model_name": "DescriptionStyleModel",
          "state": {
            "_model_module": "@jupyter-widgets/controls",
            "_model_module_version": "1.5.0",
            "_model_name": "DescriptionStyleModel",
            "_view_count": null,
            "_view_module": "@jupyter-widgets/base",
            "_view_module_version": "1.2.0",
            "_view_name": "StyleView",
            "description_width": ""
          }
        },
        "e55db29b4ce046a6941ceb28c350de6d": {
          "model_module": "@jupyter-widgets/base",
          "model_module_version": "1.2.0",
          "model_name": "LayoutModel",
          "state": {
            "_model_module": "@jupyter-widgets/base",
            "_model_module_version": "1.2.0",
            "_model_name": "LayoutModel",
            "_view_count": null,
            "_view_module": "@jupyter-widgets/base",
            "_view_module_version": "1.2.0",
            "_view_name": "LayoutView",
            "align_content": null,
            "align_items": null,
            "align_self": null,
            "border": null,
            "bottom": null,
            "display": null,
            "flex": null,
            "flex_flow": null,
            "grid_area": null,
            "grid_auto_columns": null,
            "grid_auto_flow": null,
            "grid_auto_rows": null,
            "grid_column": null,
            "grid_gap": null,
            "grid_row": null,
            "grid_template_areas": null,
            "grid_template_columns": null,
            "grid_template_rows": null,
            "height": null,
            "justify_content": null,
            "justify_items": null,
            "left": null,
            "margin": null,
            "max_height": null,
            "max_width": null,
            "min_height": null,
            "min_width": null,
            "object_fit": null,
            "object_position": null,
            "order": null,
            "overflow": null,
            "overflow_x": null,
            "overflow_y": null,
            "padding": null,
            "right": null,
            "top": null,
            "visibility": null,
            "width": null
          }
        },
        "e71bdc11780d421cb28d49e0e10374af": {
          "model_module": "@jupyter-widgets/controls",
          "model_module_version": "1.5.0",
          "model_name": "HTMLModel",
          "state": {
            "_dom_classes": [],
            "_model_module": "@jupyter-widgets/controls",
            "_model_module_version": "1.5.0",
            "_model_name": "HTMLModel",
            "_view_count": null,
            "_view_module": "@jupyter-widgets/controls",
            "_view_module_version": "1.5.0",
            "_view_name": "HTMLView",
            "description": "",
            "description_tooltip": null,
            "layout": "IPY_MODEL_13b123465d3f479e8fef90116431fd34",
            "placeholder": "​",
            "style": "IPY_MODEL_ab70e5638c8044c9989cc251cfee8c64",
            "value": " 466k/466k [00:00&lt;00:00, 12.3MB/s]"
          }
        },
        "e789455e24f04f428e824d1ab9a45e5d": {
          "model_module": "@jupyter-widgets/controls",
          "model_module_version": "1.5.0",
          "model_name": "FloatProgressModel",
          "state": {
            "_dom_classes": [],
            "_model_module": "@jupyter-widgets/controls",
            "_model_module_version": "1.5.0",
            "_model_name": "FloatProgressModel",
            "_view_count": null,
            "_view_module": "@jupyter-widgets/controls",
            "_view_module_version": "1.5.0",
            "_view_name": "ProgressView",
            "bar_style": "success",
            "description": "",
            "description_tooltip": null,
            "layout": "IPY_MODEL_47972a26667949bbad75aca068af346b",
            "max": 350,
            "min": 0,
            "orientation": "horizontal",
            "style": "IPY_MODEL_051af0c675d547ae9ca2e9a4dea0726e",
            "value": 350
          }
        },
        "e8cfbc289a45416f94f1235948a03f7c": {
          "model_module": "@jupyter-widgets/controls",
          "model_module_version": "1.5.0",
          "model_name": "DescriptionStyleModel",
          "state": {
            "_model_module": "@jupyter-widgets/controls",
            "_model_module_version": "1.5.0",
            "_model_name": "DescriptionStyleModel",
            "_view_count": null,
            "_view_module": "@jupyter-widgets/base",
            "_view_module_version": "1.2.0",
            "_view_name": "StyleView",
            "description_width": ""
          }
        },
        "e97fd8408bb741aeae14bda27b9a6fa7": {
          "model_module": "@jupyter-widgets/base",
          "model_module_version": "1.2.0",
          "model_name": "LayoutModel",
          "state": {
            "_model_module": "@jupyter-widgets/base",
            "_model_module_version": "1.2.0",
            "_model_name": "LayoutModel",
            "_view_count": null,
            "_view_module": "@jupyter-widgets/base",
            "_view_module_version": "1.2.0",
            "_view_name": "LayoutView",
            "align_content": null,
            "align_items": null,
            "align_self": null,
            "border": null,
            "bottom": null,
            "display": null,
            "flex": null,
            "flex_flow": null,
            "grid_area": null,
            "grid_auto_columns": null,
            "grid_auto_flow": null,
            "grid_auto_rows": null,
            "grid_column": null,
            "grid_gap": null,
            "grid_row": null,
            "grid_template_areas": null,
            "grid_template_columns": null,
            "grid_template_rows": null,
            "height": null,
            "justify_content": null,
            "justify_items": null,
            "left": null,
            "margin": null,
            "max_height": null,
            "max_width": null,
            "min_height": null,
            "min_width": null,
            "object_fit": null,
            "object_position": null,
            "order": null,
            "overflow": null,
            "overflow_x": null,
            "overflow_y": null,
            "padding": null,
            "right": null,
            "top": null,
            "visibility": null,
            "width": null
          }
        },
        "efe1ea053d8e49e6855bd0737f5dd81a": {
          "model_module": "@jupyter-widgets/base",
          "model_module_version": "1.2.0",
          "model_name": "LayoutModel",
          "state": {
            "_model_module": "@jupyter-widgets/base",
            "_model_module_version": "1.2.0",
            "_model_name": "LayoutModel",
            "_view_count": null,
            "_view_module": "@jupyter-widgets/base",
            "_view_module_version": "1.2.0",
            "_view_name": "LayoutView",
            "align_content": null,
            "align_items": null,
            "align_self": null,
            "border": null,
            "bottom": null,
            "display": null,
            "flex": null,
            "flex_flow": null,
            "grid_area": null,
            "grid_auto_columns": null,
            "grid_auto_flow": null,
            "grid_auto_rows": null,
            "grid_column": null,
            "grid_gap": null,
            "grid_row": null,
            "grid_template_areas": null,
            "grid_template_columns": null,
            "grid_template_rows": null,
            "height": null,
            "justify_content": null,
            "justify_items": null,
            "left": null,
            "margin": null,
            "max_height": null,
            "max_width": null,
            "min_height": null,
            "min_width": null,
            "object_fit": null,
            "object_position": null,
            "order": null,
            "overflow": null,
            "overflow_x": null,
            "overflow_y": null,
            "padding": null,
            "right": null,
            "top": null,
            "visibility": null,
            "width": null
          }
        },
        "f526f2437e6347d09c1012c9fec2d79a": {
          "model_module": "@jupyter-widgets/controls",
          "model_module_version": "1.5.0",
          "model_name": "FloatProgressModel",
          "state": {
            "_dom_classes": [],
            "_model_module": "@jupyter-widgets/controls",
            "_model_module_version": "1.5.0",
            "_model_name": "FloatProgressModel",
            "_view_count": null,
            "_view_module": "@jupyter-widgets/controls",
            "_view_module_version": "1.5.0",
            "_view_name": "ProgressView",
            "bar_style": "success",
            "description": "",
            "description_tooltip": null,
            "layout": "IPY_MODEL_fe3dea3a6d5445b499ea40ac785079ee",
            "max": 466247,
            "min": 0,
            "orientation": "horizontal",
            "style": "IPY_MODEL_6de0634717c949438f932f749b0fdb46",
            "value": 466247
          }
        },
        "f564b505d1504ece9ee08fe7f034d1e2": {
          "model_module": "@jupyter-widgets/base",
          "model_module_version": "1.2.0",
          "model_name": "LayoutModel",
          "state": {
            "_model_module": "@jupyter-widgets/base",
            "_model_module_version": "1.2.0",
            "_model_name": "LayoutModel",
            "_view_count": null,
            "_view_module": "@jupyter-widgets/base",
            "_view_module_version": "1.2.0",
            "_view_name": "LayoutView",
            "align_content": null,
            "align_items": null,
            "align_self": null,
            "border": null,
            "bottom": null,
            "display": null,
            "flex": null,
            "flex_flow": null,
            "grid_area": null,
            "grid_auto_columns": null,
            "grid_auto_flow": null,
            "grid_auto_rows": null,
            "grid_column": null,
            "grid_gap": null,
            "grid_row": null,
            "grid_template_areas": null,
            "grid_template_columns": null,
            "grid_template_rows": null,
            "height": null,
            "justify_content": null,
            "justify_items": null,
            "left": null,
            "margin": null,
            "max_height": null,
            "max_width": null,
            "min_height": null,
            "min_width": null,
            "object_fit": null,
            "object_position": null,
            "order": null,
            "overflow": null,
            "overflow_x": null,
            "overflow_y": null,
            "padding": null,
            "right": null,
            "top": null,
            "visibility": null,
            "width": null
          }
        },
        "f7dd0f8e521a4f839018c83a908bb56f": {
          "model_module": "@jupyter-widgets/controls",
          "model_module_version": "1.5.0",
          "model_name": "HTMLModel",
          "state": {
            "_dom_classes": [],
            "_model_module": "@jupyter-widgets/controls",
            "_model_module_version": "1.5.0",
            "_model_name": "HTMLModel",
            "_view_count": null,
            "_view_module": "@jupyter-widgets/controls",
            "_view_module_version": "1.5.0",
            "_view_name": "HTMLView",
            "description": "",
            "description_tooltip": null,
            "layout": "IPY_MODEL_229e7c6813c24ce9ba0f66ad1beff910",
            "placeholder": "​",
            "style": "IPY_MODEL_469c5bfee0ba41a4821ad555a296125a",
            "value": " 90.9M/90.9M [00:00&lt;00:00, 106MB/s]"
          }
        },
        "f8a9aba924f64e89bbb929dde1fedfe2": {
          "model_module": "@jupyter-widgets/base",
          "model_module_version": "1.2.0",
          "model_name": "LayoutModel",
          "state": {
            "_model_module": "@jupyter-widgets/base",
            "_model_module_version": "1.2.0",
            "_model_name": "LayoutModel",
            "_view_count": null,
            "_view_module": "@jupyter-widgets/base",
            "_view_module_version": "1.2.0",
            "_view_name": "LayoutView",
            "align_content": null,
            "align_items": null,
            "align_self": null,
            "border": null,
            "bottom": null,
            "display": null,
            "flex": null,
            "flex_flow": null,
            "grid_area": null,
            "grid_auto_columns": null,
            "grid_auto_flow": null,
            "grid_auto_rows": null,
            "grid_column": null,
            "grid_gap": null,
            "grid_row": null,
            "grid_template_areas": null,
            "grid_template_columns": null,
            "grid_template_rows": null,
            "height": null,
            "justify_content": null,
            "justify_items": null,
            "left": null,
            "margin": null,
            "max_height": null,
            "max_width": null,
            "min_height": null,
            "min_width": null,
            "object_fit": null,
            "object_position": null,
            "order": null,
            "overflow": null,
            "overflow_x": null,
            "overflow_y": null,
            "padding": null,
            "right": null,
            "top": null,
            "visibility": null,
            "width": null
          }
        },
        "fb8854f17cac428b8717e3098c882805": {
          "model_module": "@jupyter-widgets/controls",
          "model_module_version": "1.5.0",
          "model_name": "HBoxModel",
          "state": {
            "_dom_classes": [],
            "_model_module": "@jupyter-widgets/controls",
            "_model_module_version": "1.5.0",
            "_model_name": "HBoxModel",
            "_view_count": null,
            "_view_module": "@jupyter-widgets/controls",
            "_view_module_version": "1.5.0",
            "_view_name": "HBoxView",
            "box_style": "",
            "children": [
              "IPY_MODEL_2d94ddc289e549bd88a8a8afe2e5d750",
              "IPY_MODEL_1386c6ee969e402da0a316bb9fead7ed",
              "IPY_MODEL_b4e1bd70666b4b90bd0425cb00e95be8"
            ],
            "layout": "IPY_MODEL_774f1715e8824542866a3e4547b7975e"
          }
        },
        "fb9361b72d014e52861ce28f505a751a": {
          "model_module": "@jupyter-widgets/controls",
          "model_module_version": "1.5.0",
          "model_name": "DescriptionStyleModel",
          "state": {
            "_model_module": "@jupyter-widgets/controls",
            "_model_module_version": "1.5.0",
            "_model_name": "DescriptionStyleModel",
            "_view_count": null,
            "_view_module": "@jupyter-widgets/base",
            "_view_module_version": "1.2.0",
            "_view_name": "StyleView",
            "description_width": ""
          }
        },
        "fe3dea3a6d5445b499ea40ac785079ee": {
          "model_module": "@jupyter-widgets/base",
          "model_module_version": "1.2.0",
          "model_name": "LayoutModel",
          "state": {
            "_model_module": "@jupyter-widgets/base",
            "_model_module_version": "1.2.0",
            "_model_name": "LayoutModel",
            "_view_count": null,
            "_view_module": "@jupyter-widgets/base",
            "_view_module_version": "1.2.0",
            "_view_name": "LayoutView",
            "align_content": null,
            "align_items": null,
            "align_self": null,
            "border": null,
            "bottom": null,
            "display": null,
            "flex": null,
            "flex_flow": null,
            "grid_area": null,
            "grid_auto_columns": null,
            "grid_auto_flow": null,
            "grid_auto_rows": null,
            "grid_column": null,
            "grid_gap": null,
            "grid_row": null,
            "grid_template_areas": null,
            "grid_template_columns": null,
            "grid_template_rows": null,
            "height": null,
            "justify_content": null,
            "justify_items": null,
            "left": null,
            "margin": null,
            "max_height": null,
            "max_width": null,
            "min_height": null,
            "min_width": null,
            "object_fit": null,
            "object_position": null,
            "order": null,
            "overflow": null,
            "overflow_x": null,
            "overflow_y": null,
            "padding": null,
            "right": null,
            "top": null,
            "visibility": null,
            "width": null
          }
        }
      }
    }
  },
  "nbformat": 4,
  "nbformat_minor": 0
}
